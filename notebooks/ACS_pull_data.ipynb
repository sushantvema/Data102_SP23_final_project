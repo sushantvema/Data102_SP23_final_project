{
 "cells": [
  {
   "cell_type": "code",
   "execution_count": 1,
   "metadata": {
    "collapsed": true
   },
   "outputs": [],
   "source": [
    "from dotenv import dotenv_values\n",
    "import requests\n",
    "import pandas as pd\n",
    "import ast\n",
    "from tqdm.notebook import tqdm\n",
    "from collections import OrderedDict"
   ]
  },
  {
   "cell_type": "code",
   "execution_count": 2,
   "metadata": {},
   "outputs": [],
   "source": [
    "# OrderedDict containing key-value pairs of secret keys\n",
    "config = dotenv_values(\"../.env\")\n",
    "CENSUS_API_KEY = config['CENSUS_API_KEY']"
   ]
  },
  {
   "cell_type": "code",
   "execution_count": 3,
   "metadata": {
    "collapsed": false,
    "pycharm": {
     "name": "#%%\n"
    }
   },
   "outputs": [],
   "source": [
    "def get_variable_table_df(year):\n",
    "    variable_table_url = f'https://api.census.gov/data/{year}/acs/acs1/profile/variables.html'\n",
    "    v_table = pd.read_html(variable_table_url)\n",
    "    variable_df = pd.DataFrame(v_table[0])\n",
    "    variable_df['Label'].replace({\"!!\": \" \", \":\": \"\"}, regex=True, inplace=True)\n",
    "    return variable_df"
   ]
  },
  {
   "cell_type": "code",
   "execution_count": 4,
   "metadata": {
    "collapsed": false,
    "pycharm": {
     "name": "#%%\n"
    }
   },
   "outputs": [],
   "source": [
    "def get_male_by_age_index(variable_table):\n",
    "    start_index = variable_table[variable_table['Label'] == 'Estimate Total Male'].index[0]\n",
    "    end_index = variable_table[variable_table['Label'] == 'Estimate Total Male 85 years and over'].index[0]\n",
    "    return start_index, end_index + 1"
   ]
  },
  {
   "cell_type": "code",
   "execution_count": 5,
   "metadata": {
    "collapsed": false,
    "pycharm": {
     "name": "#%%\n"
    }
   },
   "outputs": [],
   "source": [
    "def get_variable_names(variable_table, indeces):\n",
    "    total_male_by_age_variables = \",\".join(variable_table.iloc[indeces[0]: indeces[1]]['Name'].values)\n",
    "    return total_male_by_age_variables"
   ]
  },
  {
   "cell_type": "code",
   "execution_count": 6,
   "metadata": {
    "collapsed": false,
    "pycharm": {
     "name": "#%%\n"
    }
   },
   "outputs": [],
   "source": [
    "def get_query_url(year, variables, state_code=\"*\"):\n",
    "    # API Reference: https://www.census.gov/data/developers/guidance/api-user-guide.Example_API_Queries.html\n",
    "    # Data Dictionary: https://api.census.gov/data.html\n",
    "    host = 'https://api.census.gov/data'\n",
    "    year = f'/{year}'\n",
    "    dataset_acronym = '/acs/acs1/profile'\n",
    "    g = '?get='\n",
    "    location = f\"&for=county:*&in=state:{state_code}\"\n",
    "    usr_key = f\"&key={CENSUS_API_KEY}\"\n",
    "    query_url = f\"{host}{year}{dataset_acronym}{g}{variables}{location}{usr_key}\"\n",
    "    return query_url"
   ]
  },
  {
   "cell_type": "code",
   "execution_count": 7,
   "metadata": {
    "collapsed": false,
    "pycharm": {
     "name": "#%%\n"
    }
   },
   "outputs": [],
   "source": [
    "def get_query_text(query_url):\n",
    "    response = requests.get(query_url)\n",
    "    return response.text"
   ]
  },
  {
   "cell_type": "code",
   "execution_count": 8,
   "metadata": {
    "collapsed": false,
    "pycharm": {
     "name": "#%%\n"
    }
   },
   "outputs": [],
   "source": [
    "def get_values_from_response(response_text):\n",
    "    values = [int(i) for i in ast.literal_eval(response_text)[1]]\n",
    "    return values"
   ]
  },
  {
   "cell_type": "code",
   "execution_count": 9,
   "metadata": {
    "collapsed": false,
    "pycharm": {
     "name": "#%%\n"
    }
   },
   "outputs": [],
   "source": [
    "def get_labels(variable_df, indeces):\n",
    "    labels = [i.replace(\"!!\", \" \").replace(\":\", \"\") for i in variable_df.iloc[indeces[0]:indeces[1]]['Label'].values]\n",
    "    return labels"
   ]
  },
  {
   "cell_type": "code",
   "execution_count": 10,
   "metadata": {
    "collapsed": false,
    "pycharm": {
     "name": "#%%\n"
    }
   },
   "outputs": [],
   "source": [
    "def create_year_pop_dataframe(year, labels, values):\n",
    "    df = pd.DataFrame({year: {labels[i]: values[i] for i in range(len(labels))}}).reindex(labels)\n",
    "    return df"
   ]
  },
  {
   "cell_type": "code",
   "execution_count": 11,
   "metadata": {},
   "outputs": [],
   "source": [
    "variable_dict = OrderedDict()\n",
    "variable_dict[\"NAME\"] = \"County Name\"\n",
    "variable_dict[\"DP02_0058PE\"] = \"Percent_EduAttain_25y_over\"\n",
    "variable_dict[\"DP02_0088PE\"] = \"Percent_BornInUS\"\n",
    "variable_dict[\"DP03_0002PE\"] = \"Percent_InLaborForce\"\n",
    "variable_dict[\"DP03_0015PE\"] = \"Percent_AllParentsInLaborForce\""
   ]
  },
  {
   "cell_type": "code",
   "execution_count": 12,
   "metadata": {},
   "outputs": [],
   "source": [
    "def get_data(year, state_code, variables):\n",
    "    v_table = get_variable_table_df(year)\n",
    "    query_url = get_query_url(year, variables=variables, state_code=state_code)\n",
    "    response_text = get_query_text(query_url).replace(\"null\", \"None\")\n",
    "    response_data = eval(response_text)\n",
    "    df = pd.DataFrame(response_data[1:], columns = response_data[0])\n",
    "    df = df.astype({col: float for col in df.columns[1:]})\n",
    "    # vals = get_values_from_response(response_text)\n",
    "    # labels = get_labels(v_table, male_by_age_indeces)\n",
    "    # df = create_year_pop_dataframe(year, labels, vals)\n",
    "    for col in df.columns:\n",
    "        if col in variable_dict.keys():\n",
    "            df = df.rename({col:variable_dict[col]}, axis=1)\n",
    "    return df"
   ]
  },
  {
   "cell_type": "code",
   "execution_count": 13,
   "metadata": {},
   "outputs": [
    {
     "data": {
      "text/plain": [
       "['County Name',\n",
       " 'Percent_EduAttain_25y_over',\n",
       " 'Percent_BornInUS',\n",
       " 'Percent_InLaborForce',\n",
       " 'Percent_AllParentsInLaborForce']"
      ]
     },
     "execution_count": 13,
     "metadata": {},
     "output_type": "execute_result"
    }
   ],
   "source": [
    "list(variable_dict.values())"
   ]
  },
  {
   "cell_type": "code",
   "execution_count": 14,
   "metadata": {},
   "outputs": [],
   "source": [
    "# get data for counties across multiple states in question\n",
    "years = [2011]\n",
    "# California, Oregon, Arizona, Nevada\n",
    "# state_codes = [\"06\", \"41\", \"04\", \"32\"]\n",
    "state_codes = [\"06\", \"41\", \"04\", \"32\"]\n",
    "\n",
    "output = pd.DataFrame(columns=list(variable_dict.values()) + [\"state\", \"county\"])\n",
    "for year in years:\n",
    "    for state_code in state_codes:\n",
    "        test = get_data(year, state_code, \"NAME,DP02_0058PE,DP02_0088PE,DP03_0002PE,DP03_0015PE\")\n",
    "        output = pd.concat([output, test], axis=0)\n"
   ]
  },
  {
   "cell_type": "code",
   "execution_count": 15,
   "metadata": {},
   "outputs": [
    {
     "data": {
      "text/html": [
       "<div>\n",
       "<style scoped>\n",
       "    .dataframe tbody tr th:only-of-type {\n",
       "        vertical-align: middle;\n",
       "    }\n",
       "\n",
       "    .dataframe tbody tr th {\n",
       "        vertical-align: top;\n",
       "    }\n",
       "\n",
       "    .dataframe thead th {\n",
       "        text-align: right;\n",
       "    }\n",
       "</style>\n",
       "<table border=\"1\" class=\"dataframe\">\n",
       "  <thead>\n",
       "    <tr style=\"text-align: right;\">\n",
       "      <th></th>\n",
       "      <th>County Name</th>\n",
       "      <th>Percent_EduAttain_25y_over</th>\n",
       "      <th>Percent_BornInUS</th>\n",
       "      <th>Percent_InLaborForce</th>\n",
       "      <th>Percent_AllParentsInLaborForce</th>\n",
       "      <th>state</th>\n",
       "      <th>county</th>\n",
       "    </tr>\n",
       "  </thead>\n",
       "  <tbody>\n",
       "    <tr>\n",
       "      <th>0</th>\n",
       "      <td>Alameda County, California</td>\n",
       "      <td>1039030.0</td>\n",
       "      <td>67.7</td>\n",
       "      <td>65.9</td>\n",
       "      <td>64.5</td>\n",
       "      <td>6.0</td>\n",
       "      <td>1.0</td>\n",
       "    </tr>\n",
       "    <tr>\n",
       "      <th>1</th>\n",
       "      <td>Butte County, California</td>\n",
       "      <td>140947.0</td>\n",
       "      <td>91.3</td>\n",
       "      <td>55.8</td>\n",
       "      <td>59.5</td>\n",
       "      <td>6.0</td>\n",
       "      <td>7.0</td>\n",
       "    </tr>\n",
       "    <tr>\n",
       "      <th>2</th>\n",
       "      <td>Contra Costa County, California</td>\n",
       "      <td>716292.0</td>\n",
       "      <td>75.5</td>\n",
       "      <td>65.4</td>\n",
       "      <td>63.5</td>\n",
       "      <td>6.0</td>\n",
       "      <td>13.0</td>\n",
       "    </tr>\n",
       "    <tr>\n",
       "      <th>3</th>\n",
       "      <td>El Dorado County, California</td>\n",
       "      <td>126849.0</td>\n",
       "      <td>89.4</td>\n",
       "      <td>62.8</td>\n",
       "      <td>62.7</td>\n",
       "      <td>6.0</td>\n",
       "      <td>17.0</td>\n",
       "    </tr>\n",
       "    <tr>\n",
       "      <th>4</th>\n",
       "      <td>Fresno County, California</td>\n",
       "      <td>555181.0</td>\n",
       "      <td>76.6</td>\n",
       "      <td>61.4</td>\n",
       "      <td>59.3</td>\n",
       "      <td>6.0</td>\n",
       "      <td>19.0</td>\n",
       "    </tr>\n",
       "    <tr>\n",
       "      <th>...</th>\n",
       "      <td>...</td>\n",
       "      <td>...</td>\n",
       "      <td>...</td>\n",
       "      <td>...</td>\n",
       "      <td>...</td>\n",
       "      <td>...</td>\n",
       "      <td>...</td>\n",
       "    </tr>\n",
       "    <tr>\n",
       "      <th>7</th>\n",
       "      <td>Pinal County, Arizona</td>\n",
       "      <td>250514.0</td>\n",
       "      <td>89.4</td>\n",
       "      <td>49.6</td>\n",
       "      <td>52.0</td>\n",
       "      <td>4.0</td>\n",
       "      <td>21.0</td>\n",
       "    </tr>\n",
       "    <tr>\n",
       "      <th>8</th>\n",
       "      <td>Yavapai County, Arizona</td>\n",
       "      <td>157899.0</td>\n",
       "      <td>92.4</td>\n",
       "      <td>50.5</td>\n",
       "      <td>59.0</td>\n",
       "      <td>4.0</td>\n",
       "      <td>25.0</td>\n",
       "    </tr>\n",
       "    <tr>\n",
       "      <th>9</th>\n",
       "      <td>Yuma County, Arizona</td>\n",
       "      <td>122782.0</td>\n",
       "      <td>74.7</td>\n",
       "      <td>52.0</td>\n",
       "      <td>61.8</td>\n",
       "      <td>4.0</td>\n",
       "      <td>27.0</td>\n",
       "    </tr>\n",
       "    <tr>\n",
       "      <th>0</th>\n",
       "      <td>Clark County, Nevada</td>\n",
       "      <td>1300342.0</td>\n",
       "      <td>76.5</td>\n",
       "      <td>65.9</td>\n",
       "      <td>63.9</td>\n",
       "      <td>32.0</td>\n",
       "      <td>3.0</td>\n",
       "    </tr>\n",
       "    <tr>\n",
       "      <th>1</th>\n",
       "      <td>Washoe County, Nevada</td>\n",
       "      <td>281955.0</td>\n",
       "      <td>83.7</td>\n",
       "      <td>66.1</td>\n",
       "      <td>68.4</td>\n",
       "      <td>32.0</td>\n",
       "      <td>31.0</td>\n",
       "    </tr>\n",
       "  </tbody>\n",
       "</table>\n",
       "<p>67 rows × 7 columns</p>\n",
       "</div>"
      ],
      "text/plain": [
       "                        County Name  Percent_EduAttain_25y_over   \n",
       "0        Alameda County, California                   1039030.0  \\\n",
       "1          Butte County, California                    140947.0   \n",
       "2   Contra Costa County, California                    716292.0   \n",
       "3      El Dorado County, California                    126849.0   \n",
       "4         Fresno County, California                    555181.0   \n",
       "..                              ...                         ...   \n",
       "7             Pinal County, Arizona                    250514.0   \n",
       "8           Yavapai County, Arizona                    157899.0   \n",
       "9              Yuma County, Arizona                    122782.0   \n",
       "0              Clark County, Nevada                   1300342.0   \n",
       "1             Washoe County, Nevada                    281955.0   \n",
       "\n",
       "    Percent_BornInUS  Percent_InLaborForce  Percent_AllParentsInLaborForce   \n",
       "0               67.7                  65.9                            64.5  \\\n",
       "1               91.3                  55.8                            59.5   \n",
       "2               75.5                  65.4                            63.5   \n",
       "3               89.4                  62.8                            62.7   \n",
       "4               76.6                  61.4                            59.3   \n",
       "..               ...                   ...                             ...   \n",
       "7               89.4                  49.6                            52.0   \n",
       "8               92.4                  50.5                            59.0   \n",
       "9               74.7                  52.0                            61.8   \n",
       "0               76.5                  65.9                            63.9   \n",
       "1               83.7                  66.1                            68.4   \n",
       "\n",
       "    state  county  \n",
       "0     6.0     1.0  \n",
       "1     6.0     7.0  \n",
       "2     6.0    13.0  \n",
       "3     6.0    17.0  \n",
       "4     6.0    19.0  \n",
       "..    ...     ...  \n",
       "7     4.0    21.0  \n",
       "8     4.0    25.0  \n",
       "9     4.0    27.0  \n",
       "0    32.0     3.0  \n",
       "1    32.0    31.0  \n",
       "\n",
       "[67 rows x 7 columns]"
      ]
     },
     "execution_count": 15,
     "metadata": {},
     "output_type": "execute_result"
    }
   ],
   "source": [
    "output"
   ]
  },
  {
   "cell_type": "code",
   "execution_count": 16,
   "metadata": {
    "collapsed": false,
    "pycharm": {
     "name": "#%%\n"
    }
   },
   "outputs": [],
   "source": [
    "output.to_csv(\"data/demographic_data.csv\")"
   ]
  },
  {
   "cell_type": "code",
   "execution_count": null,
   "metadata": {},
   "outputs": [],
   "source": []
  }
 ],
 "metadata": {
  "kernelspec": {
   "display_name": "Python 3",
   "language": "python",
   "name": "python3"
  },
  "language_info": {
   "codemirror_mode": {
    "name": "ipython",
    "version": 3
   },
   "file_extension": ".py",
   "mimetype": "text/x-python",
   "name": "python",
   "nbconvert_exporter": "python",
   "pygments_lexer": "ipython3",
   "version": "3.11.3"
  }
 },
 "nbformat": 4,
 "nbformat_minor": 0
}
