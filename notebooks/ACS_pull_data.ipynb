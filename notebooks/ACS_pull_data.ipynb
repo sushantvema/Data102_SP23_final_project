{
 "cells": [
  {
   "cell_type": "code",
   "execution_count": 57,
   "metadata": {
    "collapsed": true
   },
   "outputs": [],
   "source": [
    "from dotenv import dotenv_values\n",
    "import requests\n",
    "import pandas as pd\n",
    "import ast\n",
    "from tqdm.notebook import tqdm\n",
    "from collections import OrderedDict"
   ]
  },
  {
   "cell_type": "code",
   "execution_count": 34,
   "metadata": {},
   "outputs": [],
   "source": [
    "# OrderedDict containing key-value pairs of secret keys\n",
    "config = dotenv_values(\"../.env\")\n",
    "CENSUS_API_KEY = config['CENSUS_API_KEY']"
   ]
  },
  {
   "cell_type": "code",
   "execution_count": 38,
   "metadata": {
    "collapsed": false,
    "pycharm": {
     "name": "#%%\n"
    }
   },
   "outputs": [],
   "source": [
    "def get_variable_table_df(year):\n",
    "    variable_table_url = f'https://api.census.gov/data/{year}/acs/acs1/profile/variables.html'\n",
    "    v_table = pd.read_html(variable_table_url)\n",
    "    variable_df = pd.DataFrame(v_table[0])\n",
    "    variable_df['Label'].replace({\"!!\": \" \", \":\": \"\"}, regex=True, inplace=True)\n",
    "    return variable_df"
   ]
  },
  {
   "cell_type": "code",
   "execution_count": 39,
   "metadata": {},
   "outputs": [
    {
     "data": {
      "text/html": [
       "<div>\n",
       "<style scoped>\n",
       "    .dataframe tbody tr th:only-of-type {\n",
       "        vertical-align: middle;\n",
       "    }\n",
       "\n",
       "    .dataframe tbody tr th {\n",
       "        vertical-align: top;\n",
       "    }\n",
       "\n",
       "    .dataframe thead th {\n",
       "        text-align: right;\n",
       "    }\n",
       "</style>\n",
       "<table border=\"1\" class=\"dataframe\">\n",
       "  <thead>\n",
       "    <tr style=\"text-align: right;\">\n",
       "      <th></th>\n",
       "      <th>Name</th>\n",
       "      <th>Label</th>\n",
       "      <th>Concept</th>\n",
       "      <th>Required</th>\n",
       "      <th>Attributes</th>\n",
       "      <th>Limit</th>\n",
       "      <th>Predicate Type</th>\n",
       "      <th>Group</th>\n",
       "      <th>Unnamed: 8</th>\n",
       "    </tr>\n",
       "  </thead>\n",
       "  <tbody>\n",
       "    <tr>\n",
       "      <th>0</th>\n",
       "      <td>AIANHH</td>\n",
       "      <td>American Indian Area/Alaska Native Area/Hawaii...</td>\n",
       "      <td>NaN</td>\n",
       "      <td>not required</td>\n",
       "      <td>NaN</td>\n",
       "      <td>0</td>\n",
       "      <td>(not a predicate)</td>\n",
       "      <td>NaN</td>\n",
       "      <td>NaN</td>\n",
       "    </tr>\n",
       "    <tr>\n",
       "      <th>1</th>\n",
       "      <td>ANRC</td>\n",
       "      <td>Alaska Native Regional Corporation</td>\n",
       "      <td>NaN</td>\n",
       "      <td>not required</td>\n",
       "      <td>NaN</td>\n",
       "      <td>0</td>\n",
       "      <td>(not a predicate)</td>\n",
       "      <td>NaN</td>\n",
       "      <td>NaN</td>\n",
       "    </tr>\n",
       "    <tr>\n",
       "      <th>2</th>\n",
       "      <td>CBSA</td>\n",
       "      <td>Metropolitan Statistical Area/Micropolitan Sta...</td>\n",
       "      <td>NaN</td>\n",
       "      <td>not required</td>\n",
       "      <td>NaN</td>\n",
       "      <td>0</td>\n",
       "      <td>(not a predicate)</td>\n",
       "      <td>NaN</td>\n",
       "      <td>NaN</td>\n",
       "    </tr>\n",
       "    <tr>\n",
       "      <th>3</th>\n",
       "      <td>CD112</td>\n",
       "      <td>Congressional District (112th)</td>\n",
       "      <td>NaN</td>\n",
       "      <td>not required</td>\n",
       "      <td>NaN</td>\n",
       "      <td>0</td>\n",
       "      <td>(not a predicate)</td>\n",
       "      <td>NaN</td>\n",
       "      <td>NaN</td>\n",
       "    </tr>\n",
       "    <tr>\n",
       "      <th>4</th>\n",
       "      <td>CNECTA</td>\n",
       "      <td>Combined New England City and Town Area</td>\n",
       "      <td>NaN</td>\n",
       "      <td>not required</td>\n",
       "      <td>NaN</td>\n",
       "      <td>0</td>\n",
       "      <td>(not a predicate)</td>\n",
       "      <td>NaN</td>\n",
       "      <td>NaN</td>\n",
       "    </tr>\n",
       "    <tr>\n",
       "      <th>...</th>\n",
       "      <td>...</td>\n",
       "      <td>...</td>\n",
       "      <td>...</td>\n",
       "      <td>...</td>\n",
       "      <td>...</td>\n",
       "      <td>...</td>\n",
       "      <td>...</td>\n",
       "      <td>...</td>\n",
       "      <td>...</td>\n",
       "    </tr>\n",
       "    <tr>\n",
       "      <th>1339</th>\n",
       "      <td>SUMLEVEL</td>\n",
       "      <td>Summary Level code</td>\n",
       "      <td>NaN</td>\n",
       "      <td>not required</td>\n",
       "      <td>NaN</td>\n",
       "      <td>0</td>\n",
       "      <td>string</td>\n",
       "      <td>NaN</td>\n",
       "      <td>NaN</td>\n",
       "    </tr>\n",
       "    <tr>\n",
       "      <th>1340</th>\n",
       "      <td>UA</td>\n",
       "      <td>Urban Area</td>\n",
       "      <td>NaN</td>\n",
       "      <td>not required</td>\n",
       "      <td>NaN</td>\n",
       "      <td>0</td>\n",
       "      <td>(not a predicate)</td>\n",
       "      <td>NaN</td>\n",
       "      <td>NaN</td>\n",
       "    </tr>\n",
       "    <tr>\n",
       "      <th>1341</th>\n",
       "      <td>ucgid</td>\n",
       "      <td>Uniform Census Geography Identifier clause</td>\n",
       "      <td>Census API Geography Specification</td>\n",
       "      <td>predicate-only</td>\n",
       "      <td>NaN</td>\n",
       "      <td>0</td>\n",
       "      <td>ucgid</td>\n",
       "      <td>NaN</td>\n",
       "      <td>NaN</td>\n",
       "    </tr>\n",
       "    <tr>\n",
       "      <th>1342</th>\n",
       "      <td>US</td>\n",
       "      <td>United States</td>\n",
       "      <td>NaN</td>\n",
       "      <td>not required</td>\n",
       "      <td>NaN</td>\n",
       "      <td>0</td>\n",
       "      <td>(not a predicate)</td>\n",
       "      <td>NaN</td>\n",
       "      <td>NaN</td>\n",
       "    </tr>\n",
       "    <tr>\n",
       "      <th>1343</th>\n",
       "      <td>1343 variables</td>\n",
       "      <td>1343 variables</td>\n",
       "      <td>1343 variables</td>\n",
       "      <td>1343 variables</td>\n",
       "      <td>1343 variables</td>\n",
       "      <td>1343 variables</td>\n",
       "      <td>1343 variables</td>\n",
       "      <td>1343 variables</td>\n",
       "      <td>1343 variables</td>\n",
       "    </tr>\n",
       "  </tbody>\n",
       "</table>\n",
       "<p>1344 rows × 9 columns</p>\n",
       "</div>"
      ],
      "text/plain": [
       "                Name                                              Label   \n",
       "0             AIANHH  American Indian Area/Alaska Native Area/Hawaii...  \\\n",
       "1               ANRC                 Alaska Native Regional Corporation   \n",
       "2               CBSA  Metropolitan Statistical Area/Micropolitan Sta...   \n",
       "3              CD112                     Congressional District (112th)   \n",
       "4             CNECTA            Combined New England City and Town Area   \n",
       "...              ...                                                ...   \n",
       "1339        SUMLEVEL                                 Summary Level code   \n",
       "1340              UA                                         Urban Area   \n",
       "1341           ucgid         Uniform Census Geography Identifier clause   \n",
       "1342              US                                      United States   \n",
       "1343  1343 variables                                     1343 variables   \n",
       "\n",
       "                                 Concept        Required      Attributes   \n",
       "0                                    NaN    not required             NaN  \\\n",
       "1                                    NaN    not required             NaN   \n",
       "2                                    NaN    not required             NaN   \n",
       "3                                    NaN    not required             NaN   \n",
       "4                                    NaN    not required             NaN   \n",
       "...                                  ...             ...             ...   \n",
       "1339                                 NaN    not required             NaN   \n",
       "1340                                 NaN    not required             NaN   \n",
       "1341  Census API Geography Specification  predicate-only             NaN   \n",
       "1342                                 NaN    not required             NaN   \n",
       "1343                      1343 variables  1343 variables  1343 variables   \n",
       "\n",
       "               Limit     Predicate Type           Group      Unnamed: 8  \n",
       "0                  0  (not a predicate)             NaN             NaN  \n",
       "1                  0  (not a predicate)             NaN             NaN  \n",
       "2                  0  (not a predicate)             NaN             NaN  \n",
       "3                  0  (not a predicate)             NaN             NaN  \n",
       "4                  0  (not a predicate)             NaN             NaN  \n",
       "...              ...                ...             ...             ...  \n",
       "1339               0             string             NaN             NaN  \n",
       "1340               0  (not a predicate)             NaN             NaN  \n",
       "1341               0              ucgid             NaN             NaN  \n",
       "1342               0  (not a predicate)             NaN             NaN  \n",
       "1343  1343 variables     1343 variables  1343 variables  1343 variables  \n",
       "\n",
       "[1344 rows x 9 columns]"
      ]
     },
     "execution_count": 39,
     "metadata": {},
     "output_type": "execute_result"
    }
   ],
   "source": [
    "get_variable_table_df(2011)"
   ]
  },
  {
   "cell_type": "code",
   "execution_count": 4,
   "metadata": {
    "collapsed": false,
    "pycharm": {
     "name": "#%%\n"
    }
   },
   "outputs": [],
   "source": [
    "def get_male_by_age_index(variable_table):\n",
    "    start_index = variable_table[variable_table['Label'] == 'Estimate Total Male'].index[0]\n",
    "    end_index = variable_table[variable_table['Label'] == 'Estimate Total Male 85 years and over'].index[0]\n",
    "    return start_index, end_index + 1"
   ]
  },
  {
   "cell_type": "code",
   "execution_count": 5,
   "metadata": {
    "collapsed": false,
    "pycharm": {
     "name": "#%%\n"
    }
   },
   "outputs": [],
   "source": [
    "def get_variable_names(variable_table, indeces):\n",
    "    total_male_by_age_variables = \",\".join(variable_table.iloc[indeces[0]: indeces[1]]['Name'].values)\n",
    "    return total_male_by_age_variables"
   ]
  },
  {
   "cell_type": "code",
   "execution_count": 48,
   "metadata": {
    "collapsed": false,
    "pycharm": {
     "name": "#%%\n"
    }
   },
   "outputs": [],
   "source": [
    "def get_query_url(year, variables, state_code=\"*\"):\n",
    "    # API Reference: https://www.census.gov/data/developers/guidance/api-user-guide.Example_API_Queries.html\n",
    "    # Data Dictionary: https://api.census.gov/data.html\n",
    "    host = 'https://api.census.gov/data'\n",
    "    year = f'/{year}'\n",
    "    dataset_acronym = '/acs/acs1/profile'\n",
    "    g = '?get='\n",
    "    location = f\"&for=county:*&in=state:{state_code}\"\n",
    "    usr_key = f\"&key={CENSUS_API_KEY}\"\n",
    "    query_url = f\"{host}{year}{dataset_acronym}{g}{variables}{location}{usr_key}\"\n",
    "    return query_url"
   ]
  },
  {
   "cell_type": "code",
   "execution_count": 16,
   "metadata": {
    "collapsed": false,
    "pycharm": {
     "name": "#%%\n"
    }
   },
   "outputs": [],
   "source": [
    "def get_query_text(query_url):\n",
    "    response = requests.get(query_url)\n",
    "    return response.text"
   ]
  },
  {
   "cell_type": "code",
   "execution_count": 18,
   "metadata": {
    "collapsed": false,
    "pycharm": {
     "name": "#%%\n"
    }
   },
   "outputs": [],
   "source": [
    "def get_values_from_response(response_text):\n",
    "    values = [int(i) for i in ast.literal_eval(response_text)[1]]\n",
    "    return values"
   ]
  },
  {
   "cell_type": "code",
   "execution_count": 19,
   "metadata": {
    "collapsed": false,
    "pycharm": {
     "name": "#%%\n"
    }
   },
   "outputs": [],
   "source": [
    "def get_labels(variable_df, indeces):\n",
    "    labels = [i.replace(\"!!\", \" \").replace(\":\", \"\") for i in variable_df.iloc[indeces[0]:indeces[1]]['Label'].values]\n",
    "    return labels"
   ]
  },
  {
   "cell_type": "code",
   "execution_count": 20,
   "metadata": {
    "collapsed": false,
    "pycharm": {
     "name": "#%%\n"
    }
   },
   "outputs": [],
   "source": [
    "def create_year_pop_dataframe(year, labels, values):\n",
    "    df = pd.DataFrame({year: {labels[i]: values[i] for i in range(len(labels))}}).reindex(labels)\n",
    "    return df"
   ]
  },
  {
   "cell_type": "code",
   "execution_count": 31,
   "metadata": {
    "collapsed": false,
    "pycharm": {
     "name": "#%%\n"
    }
   },
   "outputs": [],
   "source": [
    "def create_male_pop_by_age_df(year):\n",
    "    v_table = get_variable_table_df(year)\n",
    "    male_by_age_indeces = get_male_by_age_index(v_table)\n",
    "    variables = get_variable_names(v_table, male_by_age_indeces)\n",
    "    query_url = get_query_url(year, variables, state_code)\n",
    "    response_text = get_query_text(query_url)\n",
    "    vals = get_values_from_response(response_text)\n",
    "    labels = get_labels(v_table, male_by_age_indeces)\n",
    "    df = create_year_pop_dataframe(year, labels, vals)\n",
    "    return df"
   ]
  },
  {
   "cell_type": "code",
   "execution_count": 86,
   "metadata": {},
   "outputs": [],
   "source": [
    "variable_dict = OrderedDict()\n",
    "variable_dict[\"NAME\"] = \"County Name\"\n",
    "variable_dict[\"DP02_0058PE\"] = \"Percent_EduAttain_25y_over\"\n",
    "variable_dict[\"DP02_0088PE\"] = \"Percent_BornInUS\"\n",
    "variable_dict[\"DP02PR_0015E\"] = \"Avg_HouseholdSize\"\n",
    "variable_dict[\"DP03_0002PE\"] = \"Percent_InLaborForce\"\n",
    "variable_dict[\"DP03_0015PE\"] = \"Percent_AllParentsInLaborForce\""
   ]
  },
  {
   "cell_type": "code",
   "execution_count": 84,
   "metadata": {},
   "outputs": [],
   "source": [
    "def get_data(year, state_code, variables):\n",
    "    v_table = get_variable_table_df(year)\n",
    "    query_url = get_query_url(year, variables=variables, state_code=state_code)\n",
    "    response_text = get_query_text(query_url).replace(\"null\", \"None\")\n",
    "    response_data = eval(response_text)\n",
    "    df = pd.DataFrame(response_data[1:], columns = response_data[0])\n",
    "    df = df.astype({col: float for col in df.columns[1:]})\n",
    "    # vals = get_values_from_response(response_text)\n",
    "    # labels = get_labels(v_table, male_by_age_indeces)\n",
    "    # df = create_year_pop_dataframe(year, labels, vals)\n",
    "    for col in df.columns:\n",
    "        if col in variable_dict.keys():\n",
    "            df = df.rename({col:variable_dict[col]}, axis=1)\n",
    "    return df"
   ]
  },
  {
   "cell_type": "code",
   "execution_count": 92,
   "metadata": {},
   "outputs": [
    {
     "data": {
      "text/plain": [
       "40"
      ]
     },
     "execution_count": 92,
     "metadata": {},
     "output_type": "execute_result"
    }
   ],
   "source": [
    "test = get_data(2015, \"06\", \"NAME,DP02_0058PE,DP02_0088PE,DP03_0002PE,DP03_0015PE\")\n"
   ]
  },
  {
   "cell_type": "code",
   "execution_count": 32,
   "metadata": {},
   "outputs": [
    {
     "data": {
      "text/html": [
       "<div>\n",
       "<style scoped>\n",
       "    .dataframe tbody tr th:only-of-type {\n",
       "        vertical-align: middle;\n",
       "    }\n",
       "\n",
       "    .dataframe tbody tr th {\n",
       "        vertical-align: top;\n",
       "    }\n",
       "\n",
       "    .dataframe thead th {\n",
       "        text-align: right;\n",
       "    }\n",
       "</style>\n",
       "<table border=\"1\" class=\"dataframe\">\n",
       "  <thead>\n",
       "    <tr style=\"text-align: right;\">\n",
       "      <th></th>\n",
       "      <th>2019</th>\n",
       "    </tr>\n",
       "  </thead>\n",
       "  <tbody>\n",
       "    <tr>\n",
       "      <th>Estimate Total Male</th>\n",
       "      <td>6217305</td>\n",
       "    </tr>\n",
       "    <tr>\n",
       "      <th>Estimate Total Male Under 5 years</th>\n",
       "      <td>378778</td>\n",
       "    </tr>\n",
       "    <tr>\n",
       "      <th>Estimate Total Male 5 to 9 years</th>\n",
       "      <td>383859</td>\n",
       "    </tr>\n",
       "    <tr>\n",
       "      <th>Estimate Total Male 10 to 14 years</th>\n",
       "      <td>420715</td>\n",
       "    </tr>\n",
       "    <tr>\n",
       "      <th>Estimate Total Male 15 to 17 years</th>\n",
       "      <td>249124</td>\n",
       "    </tr>\n",
       "    <tr>\n",
       "      <th>Estimate Total Male 18 and 19 years</th>\n",
       "      <td>168973</td>\n",
       "    </tr>\n",
       "    <tr>\n",
       "      <th>Estimate Total Male 20 years</th>\n",
       "      <td>84744</td>\n",
       "    </tr>\n",
       "    <tr>\n",
       "      <th>Estimate Total Male 21 years</th>\n",
       "      <td>86507</td>\n",
       "    </tr>\n",
       "    <tr>\n",
       "      <th>Estimate Total Male 22 to 24 years</th>\n",
       "      <td>252191</td>\n",
       "    </tr>\n",
       "    <tr>\n",
       "      <th>Estimate Total Male 25 to 29 years</th>\n",
       "      <td>450372</td>\n",
       "    </tr>\n",
       "    <tr>\n",
       "      <th>Estimate Total Male 30 to 34 years</th>\n",
       "      <td>432580</td>\n",
       "    </tr>\n",
       "    <tr>\n",
       "      <th>Estimate Total Male 35 to 39 years</th>\n",
       "      <td>426822</td>\n",
       "    </tr>\n",
       "    <tr>\n",
       "      <th>Estimate Total Male 40 to 44 years</th>\n",
       "      <td>392949</td>\n",
       "    </tr>\n",
       "    <tr>\n",
       "      <th>Estimate Total Male 45 to 49 years</th>\n",
       "      <td>396957</td>\n",
       "    </tr>\n",
       "    <tr>\n",
       "      <th>Estimate Total Male 50 to 54 years</th>\n",
       "      <td>394088</td>\n",
       "    </tr>\n",
       "    <tr>\n",
       "      <th>Estimate Total Male 55 to 59 years</th>\n",
       "      <td>408766</td>\n",
       "    </tr>\n",
       "    <tr>\n",
       "      <th>Estimate Total Male 60 and 61 years</th>\n",
       "      <td>162083</td>\n",
       "    </tr>\n",
       "    <tr>\n",
       "      <th>Estimate Total Male 62 to 64 years</th>\n",
       "      <td>231722</td>\n",
       "    </tr>\n",
       "    <tr>\n",
       "      <th>Estimate Total Male 65 and 66 years</th>\n",
       "      <td>135354</td>\n",
       "    </tr>\n",
       "    <tr>\n",
       "      <th>Estimate Total Male 67 to 69 years</th>\n",
       "      <td>176062</td>\n",
       "    </tr>\n",
       "    <tr>\n",
       "      <th>Estimate Total Male 70 to 74 years</th>\n",
       "      <td>239491</td>\n",
       "    </tr>\n",
       "    <tr>\n",
       "      <th>Estimate Total Male 75 to 79 years</th>\n",
       "      <td>161487</td>\n",
       "    </tr>\n",
       "    <tr>\n",
       "      <th>Estimate Total Male 80 to 84 years</th>\n",
       "      <td>98050</td>\n",
       "    </tr>\n",
       "    <tr>\n",
       "      <th>Estimate Total Male 85 years and over</th>\n",
       "      <td>85631</td>\n",
       "    </tr>\n",
       "  </tbody>\n",
       "</table>\n",
       "</div>"
      ],
      "text/plain": [
       "                                          2019\n",
       "Estimate Total Male                    6217305\n",
       "Estimate Total Male Under 5 years       378778\n",
       "Estimate Total Male 5 to 9 years        383859\n",
       "Estimate Total Male 10 to 14 years      420715\n",
       "Estimate Total Male 15 to 17 years      249124\n",
       "Estimate Total Male 18 and 19 years     168973\n",
       "Estimate Total Male 20 years             84744\n",
       "Estimate Total Male 21 years             86507\n",
       "Estimate Total Male 22 to 24 years      252191\n",
       "Estimate Total Male 25 to 29 years      450372\n",
       "Estimate Total Male 30 to 34 years      432580\n",
       "Estimate Total Male 35 to 39 years      426822\n",
       "Estimate Total Male 40 to 44 years      392949\n",
       "Estimate Total Male 45 to 49 years      396957\n",
       "Estimate Total Male 50 to 54 years      394088\n",
       "Estimate Total Male 55 to 59 years      408766\n",
       "Estimate Total Male 60 and 61 years     162083\n",
       "Estimate Total Male 62 to 64 years      231722\n",
       "Estimate Total Male 65 and 66 years     135354\n",
       "Estimate Total Male 67 to 69 years      176062\n",
       "Estimate Total Male 70 to 74 years      239491\n",
       "Estimate Total Male 75 to 79 years      161487\n",
       "Estimate Total Male 80 to 84 years       98050\n",
       "Estimate Total Male 85 years and over    85631"
      ]
     },
     "execution_count": 32,
     "metadata": {},
     "output_type": "execute_result"
    }
   ],
   "source": [
    "create_male_pop_by_age_df(2019)"
   ]
  },
  {
   "cell_type": "code",
   "execution_count": 22,
   "metadata": {
    "collapsed": false,
    "pycharm": {
     "name": "#%%\n"
    }
   },
   "outputs": [
    {
     "data": {
      "application/vnd.jupyter.widget-view+json": {
       "model_id": "ed72e402c5564e18a40edc085d2a8882",
       "version_major": 2,
       "version_minor": 0
      },
      "text/plain": [
       "  0%|          | 0/2 [00:00<?, ?it/s]"
      ]
     },
     "metadata": {},
     "output_type": "display_data"
    }
   ],
   "source": [
    "years = [i for i in range(2018, 2020)]\n",
    "male_pop_by_age_df = pd.DataFrame(columns=['Population Label'])\n",
    "for year in tqdm(years):\n",
    "    try:\n",
    "        y_df = create_male_pop_by_age_df(year).reset_index().rename({'index': 'Population Label'}, axis=1)\n",
    "        male_pop_by_age_df = pd.merge(male_pop_by_age_df, y_df, how='outer', on='Population Label')\n",
    "    except IndexError:\n",
    "        next"
   ]
  },
  {
   "cell_type": "code",
   "execution_count": 23,
   "metadata": {
    "collapsed": false,
    "pycharm": {
     "name": "#%%\n"
    }
   },
   "outputs": [
    {
     "data": {
      "text/html": [
       "<div>\n",
       "<style scoped>\n",
       "    .dataframe tbody tr th:only-of-type {\n",
       "        vertical-align: middle;\n",
       "    }\n",
       "\n",
       "    .dataframe tbody tr th {\n",
       "        vertical-align: top;\n",
       "    }\n",
       "\n",
       "    .dataframe thead th {\n",
       "        text-align: right;\n",
       "    }\n",
       "</style>\n",
       "<table border=\"1\" class=\"dataframe\">\n",
       "  <thead>\n",
       "    <tr style=\"text-align: right;\">\n",
       "      <th></th>\n",
       "      <th>Population Label</th>\n",
       "      <th>2018</th>\n",
       "      <th>2019</th>\n",
       "    </tr>\n",
       "  </thead>\n",
       "  <tbody>\n",
       "    <tr>\n",
       "      <th>0</th>\n",
       "      <td>Estimate Total Male</td>\n",
       "      <td>2369271</td>\n",
       "      <td>6217305</td>\n",
       "    </tr>\n",
       "    <tr>\n",
       "      <th>1</th>\n",
       "      <td>Estimate Total Male Under 5 years</td>\n",
       "      <td>149436</td>\n",
       "      <td>378778</td>\n",
       "    </tr>\n",
       "    <tr>\n",
       "      <th>2</th>\n",
       "      <td>Estimate Total Male 5 to 9 years</td>\n",
       "      <td>151958</td>\n",
       "      <td>383859</td>\n",
       "    </tr>\n",
       "    <tr>\n",
       "      <th>3</th>\n",
       "      <td>Estimate Total Male 10 to 14 years</td>\n",
       "      <td>164696</td>\n",
       "      <td>420715</td>\n",
       "    </tr>\n",
       "    <tr>\n",
       "      <th>4</th>\n",
       "      <td>Estimate Total Male 15 to 17 years</td>\n",
       "      <td>97945</td>\n",
       "      <td>249124</td>\n",
       "    </tr>\n",
       "    <tr>\n",
       "      <th>5</th>\n",
       "      <td>Estimate Total Male 18 and 19 years</td>\n",
       "      <td>72354</td>\n",
       "      <td>168973</td>\n",
       "    </tr>\n",
       "    <tr>\n",
       "      <th>6</th>\n",
       "      <td>Estimate Total Male 20 years</td>\n",
       "      <td>38027</td>\n",
       "      <td>84744</td>\n",
       "    </tr>\n",
       "    <tr>\n",
       "      <th>7</th>\n",
       "      <td>Estimate Total Male 21 years</td>\n",
       "      <td>35913</td>\n",
       "      <td>86507</td>\n",
       "    </tr>\n",
       "    <tr>\n",
       "      <th>8</th>\n",
       "      <td>Estimate Total Male 22 to 24 years</td>\n",
       "      <td>87578</td>\n",
       "      <td>252191</td>\n",
       "    </tr>\n",
       "    <tr>\n",
       "      <th>9</th>\n",
       "      <td>Estimate Total Male 25 to 29 years</td>\n",
       "      <td>162850</td>\n",
       "      <td>450372</td>\n",
       "    </tr>\n",
       "    <tr>\n",
       "      <th>10</th>\n",
       "      <td>Estimate Total Male 30 to 34 years</td>\n",
       "      <td>148415</td>\n",
       "      <td>432580</td>\n",
       "    </tr>\n",
       "    <tr>\n",
       "      <th>11</th>\n",
       "      <td>Estimate Total Male 35 to 39 years</td>\n",
       "      <td>144980</td>\n",
       "      <td>426822</td>\n",
       "    </tr>\n",
       "    <tr>\n",
       "      <th>12</th>\n",
       "      <td>Estimate Total Male 40 to 44 years</td>\n",
       "      <td>141474</td>\n",
       "      <td>392949</td>\n",
       "    </tr>\n",
       "    <tr>\n",
       "      <th>13</th>\n",
       "      <td>Estimate Total Male 45 to 49 years</td>\n",
       "      <td>149523</td>\n",
       "      <td>396957</td>\n",
       "    </tr>\n",
       "    <tr>\n",
       "      <th>14</th>\n",
       "      <td>Estimate Total Male 50 to 54 years</td>\n",
       "      <td>153378</td>\n",
       "      <td>394088</td>\n",
       "    </tr>\n",
       "    <tr>\n",
       "      <th>15</th>\n",
       "      <td>Estimate Total Male 55 to 59 years</td>\n",
       "      <td>159550</td>\n",
       "      <td>408766</td>\n",
       "    </tr>\n",
       "    <tr>\n",
       "      <th>16</th>\n",
       "      <td>Estimate Total Male 60 and 61 years</td>\n",
       "      <td>65854</td>\n",
       "      <td>162083</td>\n",
       "    </tr>\n",
       "    <tr>\n",
       "      <th>17</th>\n",
       "      <td>Estimate Total Male 62 to 64 years</td>\n",
       "      <td>84370</td>\n",
       "      <td>231722</td>\n",
       "    </tr>\n",
       "    <tr>\n",
       "      <th>18</th>\n",
       "      <td>Estimate Total Male 65 and 66 years</td>\n",
       "      <td>52413</td>\n",
       "      <td>135354</td>\n",
       "    </tr>\n",
       "    <tr>\n",
       "      <th>19</th>\n",
       "      <td>Estimate Total Male 67 to 69 years</td>\n",
       "      <td>72211</td>\n",
       "      <td>176062</td>\n",
       "    </tr>\n",
       "    <tr>\n",
       "      <th>20</th>\n",
       "      <td>Estimate Total Male 70 to 74 years</td>\n",
       "      <td>102466</td>\n",
       "      <td>239491</td>\n",
       "    </tr>\n",
       "    <tr>\n",
       "      <th>21</th>\n",
       "      <td>Estimate Total Male 75 to 79 years</td>\n",
       "      <td>67149</td>\n",
       "      <td>161487</td>\n",
       "    </tr>\n",
       "    <tr>\n",
       "      <th>22</th>\n",
       "      <td>Estimate Total Male 80 to 84 years</td>\n",
       "      <td>39597</td>\n",
       "      <td>98050</td>\n",
       "    </tr>\n",
       "    <tr>\n",
       "      <th>23</th>\n",
       "      <td>Estimate Total Male 85 years and over</td>\n",
       "      <td>27134</td>\n",
       "      <td>85631</td>\n",
       "    </tr>\n",
       "  </tbody>\n",
       "</table>\n",
       "</div>"
      ],
      "text/plain": [
       "                         Population Label     2018     2019\n",
       "0                     Estimate Total Male  2369271  6217305\n",
       "1       Estimate Total Male Under 5 years   149436   378778\n",
       "2        Estimate Total Male 5 to 9 years   151958   383859\n",
       "3      Estimate Total Male 10 to 14 years   164696   420715\n",
       "4      Estimate Total Male 15 to 17 years    97945   249124\n",
       "5     Estimate Total Male 18 and 19 years    72354   168973\n",
       "6            Estimate Total Male 20 years    38027    84744\n",
       "7            Estimate Total Male 21 years    35913    86507\n",
       "8      Estimate Total Male 22 to 24 years    87578   252191\n",
       "9      Estimate Total Male 25 to 29 years   162850   450372\n",
       "10     Estimate Total Male 30 to 34 years   148415   432580\n",
       "11     Estimate Total Male 35 to 39 years   144980   426822\n",
       "12     Estimate Total Male 40 to 44 years   141474   392949\n",
       "13     Estimate Total Male 45 to 49 years   149523   396957\n",
       "14     Estimate Total Male 50 to 54 years   153378   394088\n",
       "15     Estimate Total Male 55 to 59 years   159550   408766\n",
       "16    Estimate Total Male 60 and 61 years    65854   162083\n",
       "17     Estimate Total Male 62 to 64 years    84370   231722\n",
       "18    Estimate Total Male 65 and 66 years    52413   135354\n",
       "19     Estimate Total Male 67 to 69 years    72211   176062\n",
       "20     Estimate Total Male 70 to 74 years   102466   239491\n",
       "21     Estimate Total Male 75 to 79 years    67149   161487\n",
       "22     Estimate Total Male 80 to 84 years    39597    98050\n",
       "23  Estimate Total Male 85 years and over    27134    85631"
      ]
     },
     "execution_count": 23,
     "metadata": {},
     "output_type": "execute_result"
    }
   ],
   "source": [
    "male_pop_by_age_df"
   ]
  },
  {
   "cell_type": "code",
   "execution_count": 13,
   "metadata": {
    "collapsed": false,
    "pycharm": {
     "name": "#%%\n"
    }
   },
   "outputs": [],
   "source": [
    "male_pop_by_age_df.to_csv('data_extract/male_pop_by_age_2005-2019.csv')"
   ]
  },
  {
   "cell_type": "code",
   "execution_count": null,
   "metadata": {
    "collapsed": false,
    "pycharm": {
     "name": "#%%\n"
    }
   },
   "outputs": [],
   "source": []
  }
 ],
 "metadata": {
  "kernelspec": {
   "display_name": "Python 3",
   "language": "python",
   "name": "python3"
  },
  "language_info": {
   "codemirror_mode": {
    "name": "ipython",
    "version": 3
   },
   "file_extension": ".py",
   "mimetype": "text/x-python",
   "name": "python",
   "nbconvert_exporter": "python",
   "pygments_lexer": "ipython3",
   "version": "3.11.3"
  }
 },
 "nbformat": 4,
 "nbformat_minor": 0
}
