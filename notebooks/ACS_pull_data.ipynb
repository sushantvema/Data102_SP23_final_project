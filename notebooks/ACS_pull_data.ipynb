{
 "cells": [
  {
   "cell_type": "code",
   "execution_count": 17,
   "metadata": {
    "collapsed": true
   },
   "outputs": [],
   "source": [
    "from dotenv import dotenv_values\n",
    "import requests\n",
    "import pandas as pd\n",
    "import ast\n",
    "from tqdm.notebook import tqdm\n",
    "from collections import OrderedDict"
   ]
  },
  {
   "cell_type": "code",
   "execution_count": 18,
   "metadata": {},
   "outputs": [],
   "source": [
    "# OrderedDict containing key-value pairs of secret keys\n",
    "config = dotenv_values(\"../.env\")\n",
    "CENSUS_API_KEY = config['CENSUS_API_KEY']"
   ]
  },
  {
   "cell_type": "code",
   "execution_count": 19,
   "metadata": {
    "collapsed": false,
    "pycharm": {
     "name": "#%%\n"
    }
   },
   "outputs": [],
   "source": [
    "def get_variable_table_df(year):\n",
    "    variable_table_url = f'https://api.census.gov/data/{year}/acs/acs1/profile/variables.html'\n",
    "    v_table = pd.read_html(variable_table_url)\n",
    "    variable_df = pd.DataFrame(v_table[0])\n",
    "    variable_df['Label'].replace({\"!!\": \" \", \":\": \"\"}, regex=True, inplace=True)\n",
    "    return variable_df"
   ]
  },
  {
   "cell_type": "code",
   "execution_count": 21,
   "metadata": {
    "collapsed": false,
    "pycharm": {
     "name": "#%%\n"
    }
   },
   "outputs": [],
   "source": [
    "def get_query_url(year, variables, state_code=\"*\"):\n",
    "    # API Reference: https://www.census.gov/data/developers/guidance/api-user-guide.Example_API_Queries.html\n",
    "    # Data Dictionary: https://api.census.gov/data.html\n",
    "    host = 'https://api.census.gov/data'\n",
    "    year = f'/{year}'\n",
    "    dataset_acronym = '/acs/acs1/profile'\n",
    "    g = '?get='\n",
    "    location = f\"&for=county:*&in=state:{state_code}\"\n",
    "    usr_key = f\"&key={CENSUS_API_KEY}\"\n",
    "    query_url = f\"{host}{year}{dataset_acronym}{g}{variables}{location}{usr_key}\"\n",
    "    return query_url"
   ]
  },
  {
   "cell_type": "code",
   "execution_count": 22,
   "metadata": {
    "collapsed": false,
    "pycharm": {
     "name": "#%%\n"
    }
   },
   "outputs": [],
   "source": [
    "def get_query_text(query_url):\n",
    "    response = requests.get(query_url)\n",
    "    return response.text"
   ]
  },
  {
   "cell_type": "code",
   "execution_count": 23,
   "metadata": {
    "collapsed": false,
    "pycharm": {
     "name": "#%%\n"
    }
   },
   "outputs": [],
   "source": [
    "def get_values_from_response(response_text):\n",
    "    values = [int(i) for i in ast.literal_eval(response_text)[1]]\n",
    "    return values"
   ]
  },
  {
   "cell_type": "code",
   "execution_count": 24,
   "metadata": {
    "collapsed": false,
    "pycharm": {
     "name": "#%%\n"
    }
   },
   "outputs": [],
   "source": [
    "def get_labels(variable_df, indeces):\n",
    "    labels = [i.replace(\"!!\", \" \").replace(\":\", \"\") for i in variable_df.iloc[indeces[0]:indeces[1]]['Label'].values]\n",
    "    return labels"
   ]
  },
  {
   "cell_type": "code",
   "execution_count": 25,
   "metadata": {},
   "outputs": [],
   "source": [
    "variable_dict = OrderedDict()\n",
    "variable_dict[\"NAME\"] = \"County Name\"\n",
    "variable_dict[\"DP02_0058PE\"] = \"Percent_EduAttain_25y_over\"\n",
    "variable_dict[\"DP02_0088PE\"] = \"Percent_BornInUS\"\n",
    "variable_dict[\"DP03_0002PE\"] = \"Percent_InLaborForce\"\n",
    "variable_dict[\"DP03_0015PE\"] = \"Percent_AllParentsInLaborForce\""
   ]
  },
  {
   "cell_type": "code",
   "execution_count": 12,
   "metadata": {},
   "outputs": [],
   "source": [
    "def get_data(year, state_code, variables):\n",
    "    query_url = get_query_url(year, variables=variables, state_code=state_code)\n",
    "    response_text = get_query_text(query_url).replace(\"null\", \"None\")\n",
    "    response_data = eval(response_text)\n",
    "    df = pd.DataFrame(response_data[1:], columns = response_data[0])\n",
    "    df = df.astype({col: float for col in df.columns[1:]})\n",
    "    # vals = get_values_from_response(response_text)\n",
    "    # labels = get_labels(v_table, male_by_age_indeces)\n",
    "    # df = create_year_pop_dataframe(year, labels, vals)\n",
    "    for col in df.columns:\n",
    "        if col in variable_dict.keys():\n",
    "            df = df.rename({col:variable_dict[col]}, axis=1)\n",
    "    return df"
   ]
  },
  {
   "cell_type": "code",
   "execution_count": 13,
   "metadata": {},
   "outputs": [
    {
     "data": {
      "text/plain": [
       "['County Name',\n",
       " 'Percent_EduAttain_25y_over',\n",
       " 'Percent_BornInUS',\n",
       " 'Percent_InLaborForce',\n",
       " 'Percent_AllParentsInLaborForce']"
      ]
     },
     "execution_count": 13,
     "metadata": {},
     "output_type": "execute_result"
    }
   ],
   "source": [
    "list(variable_dict.values())"
   ]
  },
  {
   "cell_type": "code",
   "execution_count": 30,
   "metadata": {},
   "outputs": [],
   "source": [
    "# Convenient mapping between names and codes for states and counties\n",
    "merged_index = pd.read_csv(\"merged_index.csv\", index_col=[0])"
   ]
  },
  {
   "cell_type": "code",
   "execution_count": 32,
   "metadata": {},
   "outputs": [
    {
     "data": {
      "text/html": [
       "<div>\n",
       "<style scoped>\n",
       "    .dataframe tbody tr th:only-of-type {\n",
       "        vertical-align: middle;\n",
       "    }\n",
       "\n",
       "    .dataframe tbody tr th {\n",
       "        vertical-align: top;\n",
       "    }\n",
       "\n",
       "    .dataframe thead th {\n",
       "        text-align: right;\n",
       "    }\n",
       "</style>\n",
       "<table border=\"1\" class=\"dataframe\">\n",
       "  <thead>\n",
       "    <tr style=\"text-align: right;\">\n",
       "      <th></th>\n",
       "      <th>fips</th>\n",
       "      <th>name</th>\n",
       "      <th>state</th>\n",
       "      <th>stname</th>\n",
       "      <th>st</th>\n",
       "    </tr>\n",
       "  </thead>\n",
       "  <tbody>\n",
       "    <tr>\n",
       "      <th>0</th>\n",
       "      <td>1001</td>\n",
       "      <td>Autauga County</td>\n",
       "      <td>AL</td>\n",
       "      <td>Alabama</td>\n",
       "      <td>1</td>\n",
       "    </tr>\n",
       "    <tr>\n",
       "      <th>1</th>\n",
       "      <td>1003</td>\n",
       "      <td>Baldwin County</td>\n",
       "      <td>AL</td>\n",
       "      <td>Alabama</td>\n",
       "      <td>1</td>\n",
       "    </tr>\n",
       "    <tr>\n",
       "      <th>2</th>\n",
       "      <td>1005</td>\n",
       "      <td>Barbour County</td>\n",
       "      <td>AL</td>\n",
       "      <td>Alabama</td>\n",
       "      <td>1</td>\n",
       "    </tr>\n",
       "    <tr>\n",
       "      <th>3</th>\n",
       "      <td>1007</td>\n",
       "      <td>Bibb County</td>\n",
       "      <td>AL</td>\n",
       "      <td>Alabama</td>\n",
       "      <td>1</td>\n",
       "    </tr>\n",
       "    <tr>\n",
       "      <th>4</th>\n",
       "      <td>1009</td>\n",
       "      <td>Blount County</td>\n",
       "      <td>AL</td>\n",
       "      <td>Alabama</td>\n",
       "      <td>1</td>\n",
       "    </tr>\n",
       "    <tr>\n",
       "      <th>...</th>\n",
       "      <td>...</td>\n",
       "      <td>...</td>\n",
       "      <td>...</td>\n",
       "      <td>...</td>\n",
       "      <td>...</td>\n",
       "    </tr>\n",
       "    <tr>\n",
       "      <th>3138</th>\n",
       "      <td>56037</td>\n",
       "      <td>Sweetwater County</td>\n",
       "      <td>WY</td>\n",
       "      <td>Wyoming</td>\n",
       "      <td>56</td>\n",
       "    </tr>\n",
       "    <tr>\n",
       "      <th>3139</th>\n",
       "      <td>56039</td>\n",
       "      <td>Teton County</td>\n",
       "      <td>WY</td>\n",
       "      <td>Wyoming</td>\n",
       "      <td>56</td>\n",
       "    </tr>\n",
       "    <tr>\n",
       "      <th>3140</th>\n",
       "      <td>56041</td>\n",
       "      <td>Uinta County</td>\n",
       "      <td>WY</td>\n",
       "      <td>Wyoming</td>\n",
       "      <td>56</td>\n",
       "    </tr>\n",
       "    <tr>\n",
       "      <th>3141</th>\n",
       "      <td>56043</td>\n",
       "      <td>Washakie County</td>\n",
       "      <td>WY</td>\n",
       "      <td>Wyoming</td>\n",
       "      <td>56</td>\n",
       "    </tr>\n",
       "    <tr>\n",
       "      <th>3142</th>\n",
       "      <td>56045</td>\n",
       "      <td>Weston County</td>\n",
       "      <td>WY</td>\n",
       "      <td>Wyoming</td>\n",
       "      <td>56</td>\n",
       "    </tr>\n",
       "  </tbody>\n",
       "</table>\n",
       "<p>3143 rows × 5 columns</p>\n",
       "</div>"
      ],
      "text/plain": [
       "       fips               name state   stname  st\n",
       "0      1001     Autauga County    AL  Alabama   1\n",
       "1      1003     Baldwin County    AL  Alabama   1\n",
       "2      1005     Barbour County    AL  Alabama   1\n",
       "3      1007        Bibb County    AL  Alabama   1\n",
       "4      1009      Blount County    AL  Alabama   1\n",
       "...     ...                ...   ...      ...  ..\n",
       "3138  56037  Sweetwater County    WY  Wyoming  56\n",
       "3139  56039       Teton County    WY  Wyoming  56\n",
       "3140  56041       Uinta County    WY  Wyoming  56\n",
       "3141  56043    Washakie County    WY  Wyoming  56\n",
       "3142  56045      Weston County    WY  Wyoming  56\n",
       "\n",
       "[3143 rows x 5 columns]"
      ]
     },
     "execution_count": 32,
     "metadata": {},
     "output_type": "execute_result"
    }
   ],
   "source": [
    "merged_index"
   ]
  },
  {
   "cell_type": "code",
   "execution_count": 35,
   "metadata": {},
   "outputs": [
    {
     "data": {
      "text/plain": [
       "[48, 13, 17, 37, 39, 26, 12, 42, 36, 6, 41, 32, 4]"
      ]
     },
     "execution_count": 35,
     "metadata": {},
     "output_type": "execute_result"
    }
   ],
   "source": [
    "def get_statecodes_from_acronyms(acronyms):\n",
    "    statecodes = list(merged_index[merged_index.state.isin(acronyms)].st.value_counts().keys())\n",
    "    return statecodes"
   ]
  },
  {
   "cell_type": "code",
   "execution_count": 49,
   "metadata": {},
   "outputs": [
    {
     "name": "stdout",
     "output_type": "stream",
     "text": [
      "State Code: 48\n",
      "Counties: 53\n",
      "State Code: 13\n",
      "Counties: 35\n",
      "State Code: 17\n",
      "Counties: 23\n",
      "State Code: 37\n",
      "Counties: 39\n",
      "State Code: 39\n",
      "Counties: 38\n",
      "State Code: 26\n",
      "Counties: 29\n",
      "State Code: 12\n",
      "Counties: 40\n",
      "State Code: 42\n",
      "Counties: 40\n",
      "State Code: 36\n",
      "Counties: 39\n",
      "State Code: 06\n",
      "Counties: 40\n",
      "State Code: 41\n",
      "Counties: 15\n",
      "State Code: 32\n",
      "Counties: 2\n",
      "State Code: 04\n",
      "Counties: 10\n"
     ]
    }
   ],
   "source": [
    "# get data for counties across multiple states in question\n",
    "years = [2011]\n",
    "state_codes = get_statecodes_from_acronyms(['CA', 'OR', 'AZ', 'NV', 'TX', 'FL', 'NY', 'PA', 'IL', 'OH', 'GA', 'NC', 'MI'])\n",
    "\n",
    "output = pd.DataFrame(columns=list(variable_dict.values()) + [\"state\", \"county\"])\n",
    "for year in years:\n",
    "    for state_code in state_codes:\n",
    "        if state_code < 10:\n",
    "            state_code = f\"0{state_code}\"\n",
    "        test = get_data(year, state_code, \"NAME,DP02_0058PE,DP02_0088PE,DP03_0002PE,DP03_0015PE\")\n",
    "        output = pd.concat([output, test], axis=0)\n"
   ]
  },
  {
   "cell_type": "code",
   "execution_count": 50,
   "metadata": {},
   "outputs": [
    {
     "data": {
      "text/html": [
       "<div>\n",
       "<style scoped>\n",
       "    .dataframe tbody tr th:only-of-type {\n",
       "        vertical-align: middle;\n",
       "    }\n",
       "\n",
       "    .dataframe tbody tr th {\n",
       "        vertical-align: top;\n",
       "    }\n",
       "\n",
       "    .dataframe thead th {\n",
       "        text-align: right;\n",
       "    }\n",
       "</style>\n",
       "<table border=\"1\" class=\"dataframe\">\n",
       "  <thead>\n",
       "    <tr style=\"text-align: right;\">\n",
       "      <th></th>\n",
       "      <th>County Name</th>\n",
       "      <th>Percent_EduAttain_25y_over</th>\n",
       "      <th>Percent_BornInUS</th>\n",
       "      <th>Percent_InLaborForce</th>\n",
       "      <th>Percent_AllParentsInLaborForce</th>\n",
       "      <th>state</th>\n",
       "      <th>county</th>\n",
       "    </tr>\n",
       "  </thead>\n",
       "  <tbody>\n",
       "    <tr>\n",
       "      <th>0</th>\n",
       "      <td>Angelina County, Texas</td>\n",
       "      <td>56029.0</td>\n",
       "      <td>91.2</td>\n",
       "      <td>62.6</td>\n",
       "      <td>55.5</td>\n",
       "      <td>48.0</td>\n",
       "      <td>5.0</td>\n",
       "    </tr>\n",
       "    <tr>\n",
       "      <th>1</th>\n",
       "      <td>Bastrop County, Texas</td>\n",
       "      <td>51810.0</td>\n",
       "      <td>88.1</td>\n",
       "      <td>65.4</td>\n",
       "      <td>56.5</td>\n",
       "      <td>48.0</td>\n",
       "      <td>21.0</td>\n",
       "    </tr>\n",
       "    <tr>\n",
       "      <th>2</th>\n",
       "      <td>Bell County, Texas</td>\n",
       "      <td>187920.0</td>\n",
       "      <td>87.8</td>\n",
       "      <td>67.5</td>\n",
       "      <td>57.8</td>\n",
       "      <td>48.0</td>\n",
       "      <td>27.0</td>\n",
       "    </tr>\n",
       "    <tr>\n",
       "      <th>3</th>\n",
       "      <td>Bexar County, Texas</td>\n",
       "      <td>1091107.0</td>\n",
       "      <td>84.7</td>\n",
       "      <td>64.6</td>\n",
       "      <td>61.7</td>\n",
       "      <td>48.0</td>\n",
       "      <td>29.0</td>\n",
       "    </tr>\n",
       "    <tr>\n",
       "      <th>4</th>\n",
       "      <td>Bowie County, Texas</td>\n",
       "      <td>61351.0</td>\n",
       "      <td>97.2</td>\n",
       "      <td>54.9</td>\n",
       "      <td>68.8</td>\n",
       "      <td>48.0</td>\n",
       "      <td>37.0</td>\n",
       "    </tr>\n",
       "    <tr>\n",
       "      <th>...</th>\n",
       "      <td>...</td>\n",
       "      <td>...</td>\n",
       "      <td>...</td>\n",
       "      <td>...</td>\n",
       "      <td>...</td>\n",
       "      <td>...</td>\n",
       "      <td>...</td>\n",
       "    </tr>\n",
       "    <tr>\n",
       "      <th>5</th>\n",
       "      <td>Navajo County, Arizona</td>\n",
       "      <td>64505.0</td>\n",
       "      <td>97.3</td>\n",
       "      <td>51.0</td>\n",
       "      <td>49.4</td>\n",
       "      <td>4.0</td>\n",
       "      <td>17.0</td>\n",
       "    </tr>\n",
       "    <tr>\n",
       "      <th>6</th>\n",
       "      <td>Pima County, Arizona</td>\n",
       "      <td>657636.0</td>\n",
       "      <td>85.5</td>\n",
       "      <td>58.8</td>\n",
       "      <td>61.2</td>\n",
       "      <td>4.0</td>\n",
       "      <td>19.0</td>\n",
       "    </tr>\n",
       "    <tr>\n",
       "      <th>7</th>\n",
       "      <td>Pinal County, Arizona</td>\n",
       "      <td>250514.0</td>\n",
       "      <td>89.4</td>\n",
       "      <td>49.6</td>\n",
       "      <td>52.0</td>\n",
       "      <td>4.0</td>\n",
       "      <td>21.0</td>\n",
       "    </tr>\n",
       "    <tr>\n",
       "      <th>8</th>\n",
       "      <td>Yavapai County, Arizona</td>\n",
       "      <td>157899.0</td>\n",
       "      <td>92.4</td>\n",
       "      <td>50.5</td>\n",
       "      <td>59.0</td>\n",
       "      <td>4.0</td>\n",
       "      <td>25.0</td>\n",
       "    </tr>\n",
       "    <tr>\n",
       "      <th>9</th>\n",
       "      <td>Yuma County, Arizona</td>\n",
       "      <td>122782.0</td>\n",
       "      <td>74.7</td>\n",
       "      <td>52.0</td>\n",
       "      <td>61.8</td>\n",
       "      <td>4.0</td>\n",
       "      <td>27.0</td>\n",
       "    </tr>\n",
       "  </tbody>\n",
       "</table>\n",
       "<p>403 rows × 7 columns</p>\n",
       "</div>"
      ],
      "text/plain": [
       "                County Name  Percent_EduAttain_25y_over  Percent_BornInUS   \n",
       "0    Angelina County, Texas                     56029.0              91.2  \\\n",
       "1     Bastrop County, Texas                     51810.0              88.1   \n",
       "2        Bell County, Texas                    187920.0              87.8   \n",
       "3       Bexar County, Texas                   1091107.0              84.7   \n",
       "4       Bowie County, Texas                     61351.0              97.2   \n",
       "..                      ...                         ...               ...   \n",
       "5    Navajo County, Arizona                     64505.0              97.3   \n",
       "6      Pima County, Arizona                    657636.0              85.5   \n",
       "7     Pinal County, Arizona                    250514.0              89.4   \n",
       "8   Yavapai County, Arizona                    157899.0              92.4   \n",
       "9      Yuma County, Arizona                    122782.0              74.7   \n",
       "\n",
       "    Percent_InLaborForce  Percent_AllParentsInLaborForce  state  county  \n",
       "0                   62.6                            55.5   48.0     5.0  \n",
       "1                   65.4                            56.5   48.0    21.0  \n",
       "2                   67.5                            57.8   48.0    27.0  \n",
       "3                   64.6                            61.7   48.0    29.0  \n",
       "4                   54.9                            68.8   48.0    37.0  \n",
       "..                   ...                             ...    ...     ...  \n",
       "5                   51.0                            49.4    4.0    17.0  \n",
       "6                   58.8                            61.2    4.0    19.0  \n",
       "7                   49.6                            52.0    4.0    21.0  \n",
       "8                   50.5                            59.0    4.0    25.0  \n",
       "9                   52.0                            61.8    4.0    27.0  \n",
       "\n",
       "[403 rows x 7 columns]"
      ]
     },
     "execution_count": 50,
     "metadata": {},
     "output_type": "execute_result"
    }
   ],
   "source": [
    "output"
   ]
  },
  {
   "cell_type": "code",
   "execution_count": 51,
   "metadata": {
    "collapsed": false,
    "pycharm": {
     "name": "#%%\n"
    }
   },
   "outputs": [],
   "source": [
    "output.to_csv(\"data/demographic_data.csv\")"
   ]
  },
  {
   "cell_type": "code",
   "execution_count": null,
   "metadata": {},
   "outputs": [],
   "source": []
  }
 ],
 "metadata": {
  "kernelspec": {
   "display_name": "Python 3",
   "language": "python",
   "name": "python3"
  },
  "language_info": {
   "codemirror_mode": {
    "name": "ipython",
    "version": 3
   },
   "file_extension": ".py",
   "mimetype": "text/x-python",
   "name": "python",
   "nbconvert_exporter": "python",
   "pygments_lexer": "ipython3",
   "version": "3.11.3"
  }
 },
 "nbformat": 4,
 "nbformat_minor": 0
}
