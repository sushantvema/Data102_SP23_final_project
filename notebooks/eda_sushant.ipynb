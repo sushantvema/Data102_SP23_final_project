{
 "cells": [
  {
   "cell_type": "code",
   "execution_count": 69,
   "metadata": {},
   "outputs": [],
   "source": [
    "import pandas as pd\n",
    "import seaborn as sns\n",
    "import numpy as np\n",
    "import requests\n",
    "import os\n",
    "import json\n",
    "import csv\n",
    "import re\n",
    "from dotenv import dotenv_values\n",
    "from collections import OrderedDict"
   ]
  },
  {
   "cell_type": "code",
   "execution_count": 55,
   "metadata": {},
   "outputs": [],
   "source": [
    "config = dotenv_values(\"../.env\")"
   ]
  },
  {
   "cell_type": "code",
   "execution_count": 56,
   "metadata": {},
   "outputs": [
    {
     "data": {
      "text/plain": [
       "OrderedDict([('CDC_APP_TOKEN', 'Qbjx2DP1NHgl87A2ZO5M7DX6B'),\n",
       "             ('CDC_API_KEY', 'drbkj9y6jiyelj3w12wbkrnb8'),\n",
       "             ('CDC_API_KEY_SECRET',\n",
       "              '4k7ebsr9fl8ft7h98hku1h4mpsykepztcizgmaoep5zdnlo3l6')])"
      ]
     },
     "execution_count": 56,
     "metadata": {},
     "output_type": "execute_result"
    }
   ],
   "source": [
    "config"
   ]
  },
  {
   "cell_type": "code",
   "execution_count": 57,
   "metadata": {},
   "outputs": [],
   "source": [
    "CDC_APP_TOKEN = config['CDC_APP_TOKEN']"
   ]
  },
  {
   "attachments": {},
   "cell_type": "markdown",
   "metadata": {},
   "source": [
    "## Load the CDC Asthma Data"
   ]
  },
  {
   "attachments": {},
   "cell_type": "markdown",
   "metadata": {},
   "source": [
    "There are 80342 rows in the original database, but we can easily query 50000 of them using the API limit."
   ]
  },
  {
   "cell_type": "code",
   "execution_count": 71,
   "metadata": {},
   "outputs": [],
   "source": [
    "### QUERY PARAMETERS ###\n",
    "limit = 50000 # number of records to return"
   ]
  },
  {
   "cell_type": "code",
   "execution_count": 72,
   "metadata": {},
   "outputs": [],
   "source": [
    "url = f'https://chronicdata.cdc.gov/resource/us8e-ubyj.json?$limit={limit}'\n",
    "headers = {\n",
    "    \"X-App-Token\": CDC_APP_TOKEN,\n",
    "}\n",
    " \n",
    "response = requests.request(\"GET\", url, headers=headers)\n",
    "asthma_data = json.loads(response.content)\n",
    "asthma_data = pd.json_normalize(asthma_data)\n",
    "asthma_data.to_csv('asthma_data.csv')\n"
   ]
  },
  {
   "cell_type": "code",
   "execution_count": 73,
   "metadata": {},
   "outputs": [
    {
     "data": {
      "text/plain": [
       "yearstart\n",
       "2017    5735\n",
       "2015    5731\n",
       "2018    5730\n",
       "2014    5725\n",
       "2016    5703\n",
       "2013    4404\n",
       "2011    3139\n",
       "2019    3138\n",
       "2012    3137\n",
       "2020    3127\n",
       "2010    2442\n",
       "2021    1989\n",
       "Name: count, dtype: int64"
      ]
     },
     "execution_count": 73,
     "metadata": {},
     "output_type": "execute_result"
    }
   ],
   "source": [
    "asthma_data.yearstart.value_counts()"
   ]
  },
  {
   "attachments": {},
   "cell_type": "markdown",
   "metadata": {},
   "source": [
    "## Load in the PM2.5 Concentrations Data"
   ]
  },
  {
   "cell_type": "code",
   "execution_count": 60,
   "metadata": {},
   "outputs": [],
   "source": [
    "url = \"https://data.cdc.gov/resource/fcqm-xrf4.json\"\n",
    "headers = {\n",
    "    \"X-App-Token\": CDC_APP_TOKEN,\n",
    "}\n",
    " \n",
    "response = requests.request(\"GET\", url, headers=headers)\n",
    "pm_conc_data = json.loads(response.content)\n",
    "pm_conc_data = pd.json_normalize(pm_conc_data)\n",
    "pm_conc_data.to_csv('pm_conc_data.csv')"
   ]
  },
  {
   "cell_type": "code",
   "execution_count": 63,
   "metadata": {},
   "outputs": [
    {
     "data": {
      "text/html": [
       "<div>\n",
       "<style scoped>\n",
       "    .dataframe tbody tr th:only-of-type {\n",
       "        vertical-align: middle;\n",
       "    }\n",
       "\n",
       "    .dataframe tbody tr th {\n",
       "        vertical-align: top;\n",
       "    }\n",
       "\n",
       "    .dataframe thead th {\n",
       "        text-align: right;\n",
       "    }\n",
       "</style>\n",
       "<table border=\"1\" class=\"dataframe\">\n",
       "  <thead>\n",
       "    <tr style=\"text-align: right;\">\n",
       "      <th></th>\n",
       "      <th>year</th>\n",
       "      <th>date</th>\n",
       "      <th>statefips</th>\n",
       "      <th>countyfips</th>\n",
       "      <th>ctfips</th>\n",
       "      <th>latitude</th>\n",
       "      <th>longitude</th>\n",
       "      <th>ds_pm_pred</th>\n",
       "      <th>ds_pm_stdd</th>\n",
       "    </tr>\n",
       "  </thead>\n",
       "  <tbody>\n",
       "    <tr>\n",
       "      <th>0</th>\n",
       "      <td>2014</td>\n",
       "      <td>12SEP2014</td>\n",
       "      <td>39</td>\n",
       "      <td>39145</td>\n",
       "      <td>39145002600</td>\n",
       "      <td>38.82242</td>\n",
       "      <td>-82.74814</td>\n",
       "      <td>6.1196</td>\n",
       "      <td>4.0929</td>\n",
       "    </tr>\n",
       "    <tr>\n",
       "      <th>1</th>\n",
       "      <td>2014</td>\n",
       "      <td>12SEP2014</td>\n",
       "      <td>51</td>\n",
       "      <td>51510</td>\n",
       "      <td>51510200103</td>\n",
       "      <td>38.82248</td>\n",
       "      <td>-77.13577</td>\n",
       "      <td>5.3507</td>\n",
       "      <td>2.8635</td>\n",
       "    </tr>\n",
       "    <tr>\n",
       "      <th>2</th>\n",
       "      <td>2014</td>\n",
       "      <td>12SEP2014</td>\n",
       "      <td>24</td>\n",
       "      <td>24033</td>\n",
       "      <td>24033801706</td>\n",
       "      <td>38.82326</td>\n",
       "      <td>-76.96041</td>\n",
       "      <td>5.548</td>\n",
       "      <td>2.8739</td>\n",
       "    </tr>\n",
       "    <tr>\n",
       "      <th>3</th>\n",
       "      <td>2014</td>\n",
       "      <td>12SEP2014</td>\n",
       "      <td>24</td>\n",
       "      <td>24033</td>\n",
       "      <td>24033801704</td>\n",
       "      <td>38.82342</td>\n",
       "      <td>-76.98072</td>\n",
       "      <td>5.568</td>\n",
       "      <td>2.9027</td>\n",
       "    </tr>\n",
       "    <tr>\n",
       "      <th>4</th>\n",
       "      <td>2014</td>\n",
       "      <td>12SEP2014</td>\n",
       "      <td>51</td>\n",
       "      <td>51510</td>\n",
       "      <td>51510201300</td>\n",
       "      <td>38.82351</td>\n",
       "      <td>-77.05437</td>\n",
       "      <td>5.5771</td>\n",
       "      <td>2.9334</td>\n",
       "    </tr>\n",
       "    <tr>\n",
       "      <th>...</th>\n",
       "      <td>...</td>\n",
       "      <td>...</td>\n",
       "      <td>...</td>\n",
       "      <td>...</td>\n",
       "      <td>...</td>\n",
       "      <td>...</td>\n",
       "      <td>...</td>\n",
       "      <td>...</td>\n",
       "      <td>...</td>\n",
       "    </tr>\n",
       "    <tr>\n",
       "      <th>995</th>\n",
       "      <td>2014</td>\n",
       "      <td>12SEP2014</td>\n",
       "      <td>11</td>\n",
       "      <td>11001</td>\n",
       "      <td>11001009505</td>\n",
       "      <td>38.96191</td>\n",
       "      <td>-77.00522</td>\n",
       "      <td>5.5458</td>\n",
       "      <td>2.8079</td>\n",
       "    </tr>\n",
       "    <tr>\n",
       "      <th>996</th>\n",
       "      <td>2014</td>\n",
       "      <td>12SEP2014</td>\n",
       "      <td>29</td>\n",
       "      <td>29019</td>\n",
       "      <td>29019001300</td>\n",
       "      <td>38.96238</td>\n",
       "      <td>-92.38242</td>\n",
       "      <td>4.1059</td>\n",
       "      <td>2.7233</td>\n",
       "    </tr>\n",
       "    <tr>\n",
       "      <th>997</th>\n",
       "      <td>2014</td>\n",
       "      <td>12SEP2014</td>\n",
       "      <td>17</td>\n",
       "      <td>17119</td>\n",
       "      <td>17119402801</td>\n",
       "      <td>38.96242</td>\n",
       "      <td>-90.1187</td>\n",
       "      <td>6.1747</td>\n",
       "      <td>3.5519</td>\n",
       "    </tr>\n",
       "    <tr>\n",
       "      <th>998</th>\n",
       "      <td>2014</td>\n",
       "      <td>12SEP2014</td>\n",
       "      <td>20</td>\n",
       "      <td>20091</td>\n",
       "      <td>20091052417</td>\n",
       "      <td>38.96259</td>\n",
       "      <td>-94.73479</td>\n",
       "      <td>3.557</td>\n",
       "      <td>1.8269</td>\n",
       "    </tr>\n",
       "    <tr>\n",
       "      <th>999</th>\n",
       "      <td>2014</td>\n",
       "      <td>12SEP2014</td>\n",
       "      <td>24</td>\n",
       "      <td>24033</td>\n",
       "      <td>24033806000</td>\n",
       "      <td>38.96263</td>\n",
       "      <td>-76.96173</td>\n",
       "      <td>5.7013</td>\n",
       "      <td>3.0229</td>\n",
       "    </tr>\n",
       "  </tbody>\n",
       "</table>\n",
       "<p>1000 rows × 9 columns</p>\n",
       "</div>"
      ],
      "text/plain": [
       "     year       date statefips countyfips       ctfips  latitude  longitude   \n",
       "0    2014  12SEP2014        39      39145  39145002600  38.82242  -82.74814  \\\n",
       "1    2014  12SEP2014        51      51510  51510200103  38.82248  -77.13577   \n",
       "2    2014  12SEP2014        24      24033  24033801706  38.82326  -76.96041   \n",
       "3    2014  12SEP2014        24      24033  24033801704  38.82342  -76.98072   \n",
       "4    2014  12SEP2014        51      51510  51510201300  38.82351  -77.05437   \n",
       "..    ...        ...       ...        ...          ...       ...        ...   \n",
       "995  2014  12SEP2014        11      11001  11001009505  38.96191  -77.00522   \n",
       "996  2014  12SEP2014        29      29019  29019001300  38.96238  -92.38242   \n",
       "997  2014  12SEP2014        17      17119  17119402801  38.96242   -90.1187   \n",
       "998  2014  12SEP2014        20      20091  20091052417  38.96259  -94.73479   \n",
       "999  2014  12SEP2014        24      24033  24033806000  38.96263  -76.96173   \n",
       "\n",
       "    ds_pm_pred ds_pm_stdd  \n",
       "0       6.1196     4.0929  \n",
       "1       5.3507     2.8635  \n",
       "2        5.548     2.8739  \n",
       "3        5.568     2.9027  \n",
       "4       5.5771     2.9334  \n",
       "..         ...        ...  \n",
       "995     5.5458     2.8079  \n",
       "996     4.1059     2.7233  \n",
       "997     6.1747     3.5519  \n",
       "998      3.557     1.8269  \n",
       "999     5.7013     3.0229  \n",
       "\n",
       "[1000 rows x 9 columns]"
      ]
     },
     "execution_count": 63,
     "metadata": {},
     "output_type": "execute_result"
    }
   ],
   "source": [
    "pm_conc_data"
   ]
  },
  {
   "cell_type": "code",
   "execution_count": null,
   "metadata": {},
   "outputs": [],
   "source": []
  }
 ],
 "metadata": {
  "kernelspec": {
   "display_name": "102_final_project",
   "language": "python",
   "name": "python3"
  },
  "language_info": {
   "codemirror_mode": {
    "name": "ipython",
    "version": 3
   },
   "file_extension": ".py",
   "mimetype": "text/x-python",
   "name": "python",
   "nbconvert_exporter": "python",
   "pygments_lexer": "ipython3",
   "version": "3.11.3"
  },
  "orig_nbformat": 4
 },
 "nbformat": 4,
 "nbformat_minor": 2
}
