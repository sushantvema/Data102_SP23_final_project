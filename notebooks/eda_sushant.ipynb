{
 "cells": [
  {
   "attachments": {},
   "cell_type": "markdown",
   "metadata": {},
   "source": [
    "# Sushant EDA"
   ]
  },
  {
   "cell_type": "code",
   "execution_count": 181,
   "metadata": {},
   "outputs": [],
   "source": [
    "import pandas as pd\n",
    "import seaborn as sns\n",
    "import matplotlib.pyplot as plt\n",
    "import numpy as np\n",
    "import requests\n",
    "import os\n",
    "import json\n",
    "import csv\n",
    "import re\n",
    "from dotenv import dotenv_values\n",
    "from collections import OrderedDict"
   ]
  },
  {
   "cell_type": "code",
   "execution_count": 55,
   "metadata": {},
   "outputs": [],
   "source": [
    "# OrderedDict containing key-value pairs of secret keys\n",
    "config = dotenv_values(\"../.env\")"
   ]
  },
  {
   "cell_type": "code",
   "execution_count": 57,
   "metadata": {},
   "outputs": [],
   "source": [
    "CDC_APP_TOKEN = config['CDC_APP_TOKEN']"
   ]
  },
  {
   "attachments": {},
   "cell_type": "markdown",
   "metadata": {},
   "source": [
    "## Load the CDC Asthma Data"
   ]
  },
  {
   "attachments": {},
   "cell_type": "markdown",
   "metadata": {},
   "source": [
    "There are 80342 rows in the original database, but we can easily query 50000 of them using the API limit."
   ]
  },
  {
   "cell_type": "code",
   "execution_count": 71,
   "metadata": {},
   "outputs": [],
   "source": [
    "### QUERY PARAMETERS ###\n",
    "limit = 50000 # number of records to return"
   ]
  },
  {
   "cell_type": "code",
   "execution_count": 72,
   "metadata": {},
   "outputs": [],
   "source": [
    "# Use this cell for customized queries on the asthma dataset\n",
    "url = f'https://chronicdata.cdc.gov/resource/us8e-ubyj.json?$limit={limit}'\n",
    "headers = {\n",
    "    \"X-App-Token\": CDC_APP_TOKEN,\n",
    "}\n",
    " \n",
    "response = requests.request(\"GET\", url, headers=headers)\n",
    "asthma_data = json.loads(response.content)\n",
    "asthma_data = pd.json_normalize(asthma_data)\n",
    "asthma_data.to_csv('asthma_data.csv')\n"
   ]
  },
  {
   "cell_type": "code",
   "execution_count": 81,
   "metadata": {},
   "outputs": [],
   "source": [
    "# get remaining 30000 rows if desired\n",
    "offset = 50000\n",
    "url = f'https://chronicdata.cdc.gov/resource/us8e-ubyj.json?$limit={limit}&$offset={offset}'\n",
    "headers = {\n",
    "    \"X-App-Token\": CDC_APP_TOKEN,\n",
    "}\n",
    " \n",
    "response = requests.request(\"GET\", url, headers=headers)\n",
    "asthma_data_remaining = json.loads(response.content)\n",
    "asthma_data_remaining = pd.json_normalize(asthma_data_remaining)\n",
    "\n",
    "# merge the two asthma dataframes to form the entire dataset\n",
    "asthma_data_full = pd.concat([asthma_data, asthma_data_remaining], axis=0)\n",
    "asthma_data_full.to_csv('asthma_data_full.csv')"
   ]
  },
  {
   "attachments": {},
   "cell_type": "markdown",
   "metadata": {},
   "source": [
    "## Load in the PM2.5 Concentrations Data"
   ]
  },
  {
   "attachments": {},
   "cell_type": "markdown",
   "metadata": {},
   "source": [
    "This dataset contains 105,000,000 rows... so what do we want from it?"
   ]
  },
  {
   "cell_type": "code",
   "execution_count": 74,
   "metadata": {},
   "outputs": [],
   "source": [
    "### QUERY PARAMETERS ###\n",
    "limit = 50000 # number of records to return"
   ]
  },
  {
   "cell_type": "code",
   "execution_count": 75,
   "metadata": {},
   "outputs": [],
   "source": [
    "url = f'https://data.cdc.gov/resource/fcqm-xrf4.json?$limit={limit}'\n",
    "headers = {\n",
    "    \"X-App-Token\": CDC_APP_TOKEN,\n",
    "}\n",
    " \n",
    "response = requests.request(\"GET\", url, headers=headers)\n",
    "pm_conc_data = json.loads(response.content)\n",
    "pm_conc_data = pd.json_normalize(pm_conc_data)\n",
    "pm_conc_data.to_csv('pm_conc_data.csv')"
   ]
  },
  {
   "cell_type": "code",
   "execution_count": 76,
   "metadata": {},
   "outputs": [
    {
     "data": {
      "text/html": [
       "<div>\n",
       "<style scoped>\n",
       "    .dataframe tbody tr th:only-of-type {\n",
       "        vertical-align: middle;\n",
       "    }\n",
       "\n",
       "    .dataframe tbody tr th {\n",
       "        vertical-align: top;\n",
       "    }\n",
       "\n",
       "    .dataframe thead th {\n",
       "        text-align: right;\n",
       "    }\n",
       "</style>\n",
       "<table border=\"1\" class=\"dataframe\">\n",
       "  <thead>\n",
       "    <tr style=\"text-align: right;\">\n",
       "      <th></th>\n",
       "      <th>year</th>\n",
       "      <th>date</th>\n",
       "      <th>statefips</th>\n",
       "      <th>countyfips</th>\n",
       "      <th>ctfips</th>\n",
       "      <th>latitude</th>\n",
       "      <th>longitude</th>\n",
       "      <th>ds_pm_pred</th>\n",
       "      <th>ds_pm_stdd</th>\n",
       "    </tr>\n",
       "  </thead>\n",
       "  <tbody>\n",
       "    <tr>\n",
       "      <th>0</th>\n",
       "      <td>2014</td>\n",
       "      <td>12SEP2014</td>\n",
       "      <td>24</td>\n",
       "      <td>24003</td>\n",
       "      <td>24003706401</td>\n",
       "      <td>38.96064</td>\n",
       "      <td>-76.50283</td>\n",
       "      <td>4.7926</td>\n",
       "      <td>2.6723</td>\n",
       "    </tr>\n",
       "    <tr>\n",
       "      <th>1</th>\n",
       "      <td>2014</td>\n",
       "      <td>12SEP2014</td>\n",
       "      <td>24</td>\n",
       "      <td>24033</td>\n",
       "      <td>24033805000</td>\n",
       "      <td>38.9607</td>\n",
       "      <td>-76.98349</td>\n",
       "      <td>5.6251</td>\n",
       "      <td>2.906</td>\n",
       "    </tr>\n",
       "    <tr>\n",
       "      <th>2</th>\n",
       "      <td>2014</td>\n",
       "      <td>12SEP2014</td>\n",
       "      <td>24</td>\n",
       "      <td>24031</td>\n",
       "      <td>24031705602</td>\n",
       "      <td>38.96089</td>\n",
       "      <td>-77.09036</td>\n",
       "      <td>5.4994</td>\n",
       "      <td>2.9666</td>\n",
       "    </tr>\n",
       "    <tr>\n",
       "      <th>3</th>\n",
       "      <td>2014</td>\n",
       "      <td>12SEP2014</td>\n",
       "      <td>51</td>\n",
       "      <td>51059</td>\n",
       "      <td>51059480902</td>\n",
       "      <td>38.96091</td>\n",
       "      <td>-77.383</td>\n",
       "      <td>4.7111</td>\n",
       "      <td>2.6945</td>\n",
       "    </tr>\n",
       "    <tr>\n",
       "      <th>4</th>\n",
       "      <td>2014</td>\n",
       "      <td>12SEP2014</td>\n",
       "      <td>24</td>\n",
       "      <td>24033</td>\n",
       "      <td>24033805101</td>\n",
       "      <td>38.96111</td>\n",
       "      <td>-76.97331</td>\n",
       "      <td>5.5917</td>\n",
       "      <td>2.9533</td>\n",
       "    </tr>\n",
       "    <tr>\n",
       "      <th>...</th>\n",
       "      <td>...</td>\n",
       "      <td>...</td>\n",
       "      <td>...</td>\n",
       "      <td>...</td>\n",
       "      <td>...</td>\n",
       "      <td>...</td>\n",
       "      <td>...</td>\n",
       "      <td>...</td>\n",
       "      <td>...</td>\n",
       "    </tr>\n",
       "    <tr>\n",
       "      <th>49995</th>\n",
       "      <td>2014</td>\n",
       "      <td>13SEP2014</td>\n",
       "      <td>4</td>\n",
       "      <td>4013</td>\n",
       "      <td>4013071517</td>\n",
       "      <td>33.6011</td>\n",
       "      <td>-112.24661</td>\n",
       "      <td>4.0091</td>\n",
       "      <td>1.7374</td>\n",
       "    </tr>\n",
       "    <tr>\n",
       "      <th>49996</th>\n",
       "      <td>2014</td>\n",
       "      <td>13SEP2014</td>\n",
       "      <td>4</td>\n",
       "      <td>4013</td>\n",
       "      <td>4013060904</td>\n",
       "      <td>33.60151</td>\n",
       "      <td>-112.3109</td>\n",
       "      <td>4.0399</td>\n",
       "      <td>1.798</td>\n",
       "    </tr>\n",
       "    <tr>\n",
       "      <th>49997</th>\n",
       "      <td>2014</td>\n",
       "      <td>13SEP2014</td>\n",
       "      <td>6</td>\n",
       "      <td>6065</td>\n",
       "      <td>6065043270</td>\n",
       "      <td>33.60152</td>\n",
       "      <td>-117.25892</td>\n",
       "      <td>16.7586</td>\n",
       "      <td>8.7872</td>\n",
       "    </tr>\n",
       "    <tr>\n",
       "      <th>49998</th>\n",
       "      <td>2014</td>\n",
       "      <td>13SEP2014</td>\n",
       "      <td>4</td>\n",
       "      <td>4013</td>\n",
       "      <td>4013061041</td>\n",
       "      <td>33.60158</td>\n",
       "      <td>-112.32917</td>\n",
       "      <td>4.0543</td>\n",
       "      <td>1.8131</td>\n",
       "    </tr>\n",
       "    <tr>\n",
       "      <th>49999</th>\n",
       "      <td>2014</td>\n",
       "      <td>13SEP2014</td>\n",
       "      <td>4</td>\n",
       "      <td>4013</td>\n",
       "      <td>4013060903</td>\n",
       "      <td>33.60181</td>\n",
       "      <td>-112.32023</td>\n",
       "      <td>4.1474</td>\n",
       "      <td>1.8845</td>\n",
       "    </tr>\n",
       "  </tbody>\n",
       "</table>\n",
       "<p>50000 rows × 9 columns</p>\n",
       "</div>"
      ],
      "text/plain": [
       "       year       date statefips countyfips       ctfips  latitude   \n",
       "0      2014  12SEP2014        24      24003  24003706401  38.96064  \\\n",
       "1      2014  12SEP2014        24      24033  24033805000   38.9607   \n",
       "2      2014  12SEP2014        24      24031  24031705602  38.96089   \n",
       "3      2014  12SEP2014        51      51059  51059480902  38.96091   \n",
       "4      2014  12SEP2014        24      24033  24033805101  38.96111   \n",
       "...     ...        ...       ...        ...          ...       ...   \n",
       "49995  2014  13SEP2014         4       4013   4013071517   33.6011   \n",
       "49996  2014  13SEP2014         4       4013   4013060904  33.60151   \n",
       "49997  2014  13SEP2014         6       6065   6065043270  33.60152   \n",
       "49998  2014  13SEP2014         4       4013   4013061041  33.60158   \n",
       "49999  2014  13SEP2014         4       4013   4013060903  33.60181   \n",
       "\n",
       "        longitude ds_pm_pred ds_pm_stdd  \n",
       "0       -76.50283     4.7926     2.6723  \n",
       "1       -76.98349     5.6251      2.906  \n",
       "2       -77.09036     5.4994     2.9666  \n",
       "3         -77.383     4.7111     2.6945  \n",
       "4       -76.97331     5.5917     2.9533  \n",
       "...           ...        ...        ...  \n",
       "49995  -112.24661     4.0091     1.7374  \n",
       "49996   -112.3109     4.0399      1.798  \n",
       "49997  -117.25892    16.7586     8.7872  \n",
       "49998  -112.32917     4.0543     1.8131  \n",
       "49999  -112.32023     4.1474     1.8845  \n",
       "\n",
       "[50000 rows x 9 columns]"
      ]
     },
     "execution_count": 76,
     "metadata": {},
     "output_type": "execute_result"
    }
   ],
   "source": [
    "pm_conc_data"
   ]
  },
  {
   "attachments": {},
   "cell_type": "markdown",
   "metadata": {},
   "source": [
    "# EDA"
   ]
  },
  {
   "attachments": {},
   "cell_type": "markdown",
   "metadata": {},
   "source": [
    "## Asthma EDA"
   ]
  },
  {
   "cell_type": "code",
   "execution_count": 82,
   "metadata": {},
   "outputs": [],
   "source": [
    "asthma = asthma_data_full"
   ]
  },
  {
   "cell_type": "code",
   "execution_count": 84,
   "metadata": {},
   "outputs": [
    {
     "data": {
      "text/plain": [
       "Index(['yearstart', 'yearend', 'locationabbr', 'locationdesc', 'datasource',\n",
       "       'topic', 'question', 'datavaluetype', 'datavalue', 'datavaluealt',\n",
       "       'stratificationcategory1', 'stratification1', 'locationid', 'topicid',\n",
       "       'questionid', 'datavaluetypeid', 'stratificationcategoryid1',\n",
       "       'stratificationid1', 'datavaluefootnotesymbol', 'datavaluefootnote',\n",
       "       'datavalueunit', 'lowconfidencelimit', 'highconfidencelimit'],\n",
       "      dtype='object')"
      ]
     },
     "execution_count": 84,
     "metadata": {},
     "output_type": "execute_result"
    }
   ],
   "source": [
    "asthma.columns"
   ]
  },
  {
   "attachments": {},
   "cell_type": "markdown",
   "metadata": {},
   "source": [
    "### Preprocessing: datavalue"
   ]
  },
  {
   "cell_type": "code",
   "execution_count": 104,
   "metadata": {},
   "outputs": [],
   "source": [
    "asthma['datavalue'] = asthma['datavalue'].astype(float)\n",
    "asthma['datavaluealt'] = asthma['datavaluealt'].astype(float)"
   ]
  },
  {
   "cell_type": "code",
   "execution_count": 116,
   "metadata": {},
   "outputs": [
    {
     "data": {
      "text/plain": [
       "datavalue  datavaluealt\n",
       "True       True            40496\n",
       "False      False           39846\n",
       "Name: count, dtype: int64"
      ]
     },
     "execution_count": 116,
     "metadata": {},
     "output_type": "execute_result"
    }
   ],
   "source": [
    "# Just about half of the values are nan, and they seem to match up precisely\n",
    "asthma[['datavalue', 'datavaluealt']].isna().value_counts()\n",
    "# Since datavaluealt is the exact same as datavalue, we'll remove it below"
   ]
  },
  {
   "attachments": {},
   "cell_type": "markdown",
   "metadata": {},
   "source": [
    "### Dropping unnecessary columns"
   ]
  },
  {
   "cell_type": "code",
   "execution_count": 136,
   "metadata": {},
   "outputs": [],
   "source": [
    "# Remove unnecessary columns\n",
    "asthma_dropped = asthma.drop(['yearend', 'locationdesc', 'topic', \n",
    "'datasource', 'datavaluealt', 'stratificationcategory1', 'locationid', 'topicid', 'datavaluetypeid',\n",
    "'stratificationid1', 'datavaluefootnotesymbol'], axis=1)\n",
    "### NOTES ###\n",
    "# stratificationid1 is a more concise version of stratification1, but the conventions\n",
    "#    are weird so I dropped it"
   ]
  },
  {
   "cell_type": "code",
   "execution_count": 137,
   "metadata": {},
   "outputs": [
    {
     "data": {
      "text/html": [
       "<div>\n",
       "<style scoped>\n",
       "    .dataframe tbody tr th:only-of-type {\n",
       "        vertical-align: middle;\n",
       "    }\n",
       "\n",
       "    .dataframe tbody tr th {\n",
       "        vertical-align: top;\n",
       "    }\n",
       "\n",
       "    .dataframe thead th {\n",
       "        text-align: right;\n",
       "    }\n",
       "</style>\n",
       "<table border=\"1\" class=\"dataframe\">\n",
       "  <thead>\n",
       "    <tr style=\"text-align: right;\">\n",
       "      <th></th>\n",
       "      <th>yearstart</th>\n",
       "      <th>locationabbr</th>\n",
       "      <th>question</th>\n",
       "      <th>datavaluetype</th>\n",
       "      <th>datavalue</th>\n",
       "      <th>stratification1</th>\n",
       "      <th>questionid</th>\n",
       "      <th>stratificationcategoryid1</th>\n",
       "      <th>datavaluefootnote</th>\n",
       "      <th>datavalueunit</th>\n",
       "      <th>lowconfidencelimit</th>\n",
       "      <th>highconfidencelimit</th>\n",
       "    </tr>\n",
       "  </thead>\n",
       "  <tbody>\n",
       "    <tr>\n",
       "      <th>0</th>\n",
       "      <td>2014</td>\n",
       "      <td>AR</td>\n",
       "      <td>Hospitalizations for asthma</td>\n",
       "      <td>Number</td>\n",
       "      <td>916.0</td>\n",
       "      <td>Male</td>\n",
       "      <td>AST3_1</td>\n",
       "      <td>GENDER</td>\n",
       "      <td>NaN</td>\n",
       "      <td>NaN</td>\n",
       "      <td>NaN</td>\n",
       "      <td>NaN</td>\n",
       "    </tr>\n",
       "    <tr>\n",
       "      <th>1</th>\n",
       "      <td>2018</td>\n",
       "      <td>CO</td>\n",
       "      <td>Hospitalizations for asthma</td>\n",
       "      <td>Number</td>\n",
       "      <td>2227.0</td>\n",
       "      <td>Overall</td>\n",
       "      <td>AST3_1</td>\n",
       "      <td>OVERALL</td>\n",
       "      <td>NaN</td>\n",
       "      <td>NaN</td>\n",
       "      <td>NaN</td>\n",
       "      <td>NaN</td>\n",
       "    </tr>\n",
       "    <tr>\n",
       "      <th>2</th>\n",
       "      <td>2018</td>\n",
       "      <td>DC</td>\n",
       "      <td>Hospitalizations for asthma</td>\n",
       "      <td>Number</td>\n",
       "      <td>708.0</td>\n",
       "      <td>Overall</td>\n",
       "      <td>AST3_1</td>\n",
       "      <td>OVERALL</td>\n",
       "      <td>NaN</td>\n",
       "      <td>NaN</td>\n",
       "      <td>NaN</td>\n",
       "      <td>NaN</td>\n",
       "    </tr>\n",
       "    <tr>\n",
       "      <th>3</th>\n",
       "      <td>2017</td>\n",
       "      <td>GA</td>\n",
       "      <td>Hospitalizations for asthma</td>\n",
       "      <td>Number</td>\n",
       "      <td>3520.0</td>\n",
       "      <td>Female</td>\n",
       "      <td>AST3_1</td>\n",
       "      <td>GENDER</td>\n",
       "      <td>NaN</td>\n",
       "      <td>NaN</td>\n",
       "      <td>NaN</td>\n",
       "      <td>NaN</td>\n",
       "    </tr>\n",
       "    <tr>\n",
       "      <th>4</th>\n",
       "      <td>2010</td>\n",
       "      <td>MI</td>\n",
       "      <td>Hospitalizations for asthma</td>\n",
       "      <td>Number</td>\n",
       "      <td>123.0</td>\n",
       "      <td>Hispanic</td>\n",
       "      <td>AST3_1</td>\n",
       "      <td>RACE</td>\n",
       "      <td>NaN</td>\n",
       "      <td>NaN</td>\n",
       "      <td>NaN</td>\n",
       "      <td>NaN</td>\n",
       "    </tr>\n",
       "    <tr>\n",
       "      <th>...</th>\n",
       "      <td>...</td>\n",
       "      <td>...</td>\n",
       "      <td>...</td>\n",
       "      <td>...</td>\n",
       "      <td>...</td>\n",
       "      <td>...</td>\n",
       "      <td>...</td>\n",
       "      <td>...</td>\n",
       "      <td>...</td>\n",
       "      <td>...</td>\n",
       "      <td>...</td>\n",
       "      <td>...</td>\n",
       "    </tr>\n",
       "    <tr>\n",
       "      <th>30337</th>\n",
       "      <td>2020</td>\n",
       "      <td>WY</td>\n",
       "      <td>Influenza vaccination among noninstitutionaliz...</td>\n",
       "      <td>Age-adjusted Prevalence</td>\n",
       "      <td>NaN</td>\n",
       "      <td>Black, non-Hispanic</td>\n",
       "      <td>AST5_1</td>\n",
       "      <td>RACE</td>\n",
       "      <td>Sample size of denominator and/or age group fo...</td>\n",
       "      <td>%</td>\n",
       "      <td>NaN</td>\n",
       "      <td>NaN</td>\n",
       "    </tr>\n",
       "    <tr>\n",
       "      <th>30338</th>\n",
       "      <td>2020</td>\n",
       "      <td>WY</td>\n",
       "      <td>Pneumococcal vaccination among noninstitutiona...</td>\n",
       "      <td>Age-adjusted Prevalence</td>\n",
       "      <td>NaN</td>\n",
       "      <td>Black, non-Hispanic</td>\n",
       "      <td>AST6_2</td>\n",
       "      <td>RACE</td>\n",
       "      <td>Sample size of denominator and/or age group fo...</td>\n",
       "      <td>%</td>\n",
       "      <td>NaN</td>\n",
       "      <td>NaN</td>\n",
       "    </tr>\n",
       "    <tr>\n",
       "      <th>30339</th>\n",
       "      <td>2020</td>\n",
       "      <td>WY</td>\n",
       "      <td>Influenza vaccination among noninstitutionaliz...</td>\n",
       "      <td>Crude Prevalence</td>\n",
       "      <td>68.9</td>\n",
       "      <td>Female</td>\n",
       "      <td>AST5_2</td>\n",
       "      <td>GENDER</td>\n",
       "      <td>NaN</td>\n",
       "      <td>%</td>\n",
       "      <td>57.6</td>\n",
       "      <td>78.4</td>\n",
       "    </tr>\n",
       "    <tr>\n",
       "      <th>30340</th>\n",
       "      <td>2020</td>\n",
       "      <td>WY</td>\n",
       "      <td>Pneumococcal vaccination among noninstitutiona...</td>\n",
       "      <td>Crude Prevalence</td>\n",
       "      <td>88.4</td>\n",
       "      <td>Female</td>\n",
       "      <td>AST6_2</td>\n",
       "      <td>GENDER</td>\n",
       "      <td>NaN</td>\n",
       "      <td>%</td>\n",
       "      <td>78.1</td>\n",
       "      <td>94.2</td>\n",
       "    </tr>\n",
       "    <tr>\n",
       "      <th>30341</th>\n",
       "      <td>2020</td>\n",
       "      <td>WY</td>\n",
       "      <td>Influenza vaccination among noninstitutionaliz...</td>\n",
       "      <td>Age-adjusted Prevalence</td>\n",
       "      <td>43.1</td>\n",
       "      <td>Female</td>\n",
       "      <td>AST5_1</td>\n",
       "      <td>GENDER</td>\n",
       "      <td>NaN</td>\n",
       "      <td>%</td>\n",
       "      <td>32.1</td>\n",
       "      <td>54.8</td>\n",
       "    </tr>\n",
       "  </tbody>\n",
       "</table>\n",
       "<p>80342 rows × 12 columns</p>\n",
       "</div>"
      ],
      "text/plain": [
       "      yearstart locationabbr   \n",
       "0          2014           AR  \\\n",
       "1          2018           CO   \n",
       "2          2018           DC   \n",
       "3          2017           GA   \n",
       "4          2010           MI   \n",
       "...         ...          ...   \n",
       "30337      2020           WY   \n",
       "30338      2020           WY   \n",
       "30339      2020           WY   \n",
       "30340      2020           WY   \n",
       "30341      2020           WY   \n",
       "\n",
       "                                                question   \n",
       "0                            Hospitalizations for asthma  \\\n",
       "1                            Hospitalizations for asthma   \n",
       "2                            Hospitalizations for asthma   \n",
       "3                            Hospitalizations for asthma   \n",
       "4                            Hospitalizations for asthma   \n",
       "...                                                  ...   \n",
       "30337  Influenza vaccination among noninstitutionaliz...   \n",
       "30338  Pneumococcal vaccination among noninstitutiona...   \n",
       "30339  Influenza vaccination among noninstitutionaliz...   \n",
       "30340  Pneumococcal vaccination among noninstitutiona...   \n",
       "30341  Influenza vaccination among noninstitutionaliz...   \n",
       "\n",
       "                 datavaluetype  datavalue      stratification1 questionid   \n",
       "0                       Number      916.0                 Male     AST3_1  \\\n",
       "1                       Number     2227.0              Overall     AST3_1   \n",
       "2                       Number      708.0              Overall     AST3_1   \n",
       "3                       Number     3520.0               Female     AST3_1   \n",
       "4                       Number      123.0             Hispanic     AST3_1   \n",
       "...                        ...        ...                  ...        ...   \n",
       "30337  Age-adjusted Prevalence        NaN  Black, non-Hispanic     AST5_1   \n",
       "30338  Age-adjusted Prevalence        NaN  Black, non-Hispanic     AST6_2   \n",
       "30339         Crude Prevalence       68.9               Female     AST5_2   \n",
       "30340         Crude Prevalence       88.4               Female     AST6_2   \n",
       "30341  Age-adjusted Prevalence       43.1               Female     AST5_1   \n",
       "\n",
       "      stratificationcategoryid1   \n",
       "0                        GENDER  \\\n",
       "1                       OVERALL   \n",
       "2                       OVERALL   \n",
       "3                        GENDER   \n",
       "4                          RACE   \n",
       "...                         ...   \n",
       "30337                      RACE   \n",
       "30338                      RACE   \n",
       "30339                    GENDER   \n",
       "30340                    GENDER   \n",
       "30341                    GENDER   \n",
       "\n",
       "                                       datavaluefootnote datavalueunit   \n",
       "0                                                    NaN           NaN  \\\n",
       "1                                                    NaN           NaN   \n",
       "2                                                    NaN           NaN   \n",
       "3                                                    NaN           NaN   \n",
       "4                                                    NaN           NaN   \n",
       "...                                                  ...           ...   \n",
       "30337  Sample size of denominator and/or age group fo...             %   \n",
       "30338  Sample size of denominator and/or age group fo...             %   \n",
       "30339                                                NaN             %   \n",
       "30340                                                NaN             %   \n",
       "30341                                                NaN             %   \n",
       "\n",
       "      lowconfidencelimit highconfidencelimit  \n",
       "0                    NaN                 NaN  \n",
       "1                    NaN                 NaN  \n",
       "2                    NaN                 NaN  \n",
       "3                    NaN                 NaN  \n",
       "4                    NaN                 NaN  \n",
       "...                  ...                 ...  \n",
       "30337                NaN                 NaN  \n",
       "30338                NaN                 NaN  \n",
       "30339               57.6                78.4  \n",
       "30340               78.1                94.2  \n",
       "30341               32.1                54.8  \n",
       "\n",
       "[80342 rows x 12 columns]"
      ]
     },
     "execution_count": 137,
     "metadata": {},
     "output_type": "execute_result"
    }
   ],
   "source": [
    "asthma_dropped"
   ]
  },
  {
   "attachments": {},
   "cell_type": "markdown",
   "metadata": {},
   "source": [
    "### Topical analysis"
   ]
  },
  {
   "cell_type": "code",
   "execution_count": 141,
   "metadata": {},
   "outputs": [
    {
     "data": {
      "text/plain": [
       "question\n",
       "Asthma mortality rate                                                                      13497\n",
       "Current asthma prevalence among adults aged >= 18 years                                     9570\n",
       "Influenza vaccination among noninstitutionalized adults aged >= 65 years with asthma        9570\n",
       "Influenza vaccination among noninstitutionalized adults aged 18-64 years with asthma        9570\n",
       "Pneumococcal vaccination among noninstitutionalized adults aged 18-64 years with asthma     9570\n",
       "Pneumococcal vaccination among noninstitutionalized adults aged >= 65 years with asthma     9570\n",
       "Hospitalizations for asthma                                                                 7812\n",
       "Emergency department visit rate for asthma                                                  7608\n",
       "Asthma prevalence among women aged 18-44 years                                              3575\n",
       "Name: count, dtype: int64"
      ]
     },
     "execution_count": 141,
     "metadata": {},
     "output_type": "execute_result"
    }
   ],
   "source": [
    "asthma_dropped.question.value_counts()"
   ]
  },
  {
   "cell_type": "code",
   "execution_count": 182,
   "metadata": {},
   "outputs": [],
   "source": [
    "## Asthma mortality rate over time ##\n",
    "\n",
    "def mortality_rate_over_time(states, stratificationcategoryid1, \n",
    "                            datavaluetype, overlay_states=False, \n",
    "                            stratification1=None):\n",
    "    \"\"\"\n",
    "    Visualize the mortality rate of asthma over time.\n",
    "\n",
    "    Parameters\n",
    "    ----------\n",
    "    states: list\n",
    "        List of states (abbreviations) to visualize. Even a single state should be\n",
    "        in the list.\n",
    "    overlay_states: boolean\n",
    "        Whether to overlay the lineplots of multiple states on top of each other.\n",
    "        TODO: Implement this feature.\n",
    "    stratificationcategoryid1: string\n",
    "         'OVERALL' : Captures mortality rate of everyone in a given state \n",
    "                     irrespective of race or gender.\n",
    "         'RACE' : Captures mortality rate on racial lines.\n",
    "         'GENDER' : Captures mortality rate on gender lines.\n",
    "    stratification1 (optional) : string\n",
    "        If stratificationcategoryid1 == 'RACE':\n",
    "            'Hispanic', 'White, non-Hispanic', 'Black, non-Hispanic',\n",
    "            'Other, non-Hispanic', 'Multiracial, non-Hispanic',\n",
    "            'Asian or Pacific Islander', 'American Indian or Alaska Native'\n",
    "        If stratificationcategoryid1 == 'GENDER':\n",
    "            'Male', 'Female'\n",
    "    datavaluetype : string\n",
    "        'Number' : FIXME \n",
    "        'Crude Rate' : FIXME\n",
    "        'Age-adjusted Rate' : FIXME\n",
    "        'Crude Prevalence' : FIXME\n",
    "        'Age-adjusted Prevalence' : FIXME\n",
    "    \"\"\"\n",
    "    data = asthma_dropped[asthma_dropped['question']=='Asthma mortality rate']\n",
    "    data = data[data['locationabbr'] == states[0]]\n",
    "    data = data[data['stratificationcategoryid1'] == stratificationcategoryid1]\n",
    "    data = data[data['datavaluetype'] == datavaluetype]\n",
    "    data.sort_values(by='yearstart', ascending=True)\n",
    "    sns.lineplot(data=data[['yearstart', 'datavalue']], x='yearstart', y='datavalue').set(\n",
    "        title = f'{datavaluetype} of Asthma Mortality in {states[0]} {stratificationcategoryid1}'\n",
    "    )\n",
    "    plt.ylabel(datavaluetype)\n",
    "    "
   ]
  },
  {
   "cell_type": "code",
   "execution_count": 183,
   "metadata": {},
   "outputs": [
    {
     "data": {
      "image/png": "[encoded data removed]",
      "text/plain": [
       "<Figure size 640x480 with 1 Axes>"
      ]
     },
     "metadata": {},
     "output_type": "display_data"
    }
   ],
   "source": [
    "mortality_rate_over_time(states=['CA'], stratificationcategoryid1='OVERALL', datavaluetype='Age-adjusted Rate')"
   ]
  },
  {
   "cell_type": "code",
   "execution_count": 159,
   "metadata": {},
   "outputs": [
    {
     "data": {
      "text/plain": [
       "Index(['Crude Prevalence', 'Age-adjusted Prevalence', 'Number', 'Crude Rate',\n",
       "       'Age-adjusted Rate'],\n",
       "      dtype='object', name='datavaluetype')"
      ]
     },
     "execution_count": 159,
     "metadata": {},
     "output_type": "execute_result"
    }
   ],
   "source": [
    "asthma_dropped['datavaluetype'].value_counts().index"
   ]
  },
  {
   "cell_type": "code",
   "execution_count": null,
   "metadata": {},
   "outputs": [],
   "source": []
  }
 ],
 "metadata": {
  "kernelspec": {
   "display_name": "102_final_project",
   "language": "python",
   "name": "python3"
  },
  "language_info": {
   "codemirror_mode": {
    "name": "ipython",
    "version": 3
   },
   "file_extension": ".py",
   "mimetype": "text/x-python",
   "name": "python",
   "nbconvert_exporter": "python",
   "pygments_lexer": "ipython3",
   "version": "3.11.3"
  },
  "orig_nbformat": 4
 },
 "nbformat": 4,
 "nbformat_minor": 2
}
