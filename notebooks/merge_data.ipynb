{
 "cells": [
  {
   "cell_type": "code",
   "execution_count": 72,
   "metadata": {},
   "outputs": [],
   "source": [
    "import pandas as pd\n",
    "import numpy as np\n",
    "import seaborn as sns\n",
    "import matplotlib.pyplot as plt"
   ]
  },
  {
   "attachments": {},
   "cell_type": "markdown",
   "metadata": {},
   "source": [
    "## Create a mapping for fips codes, county names, states, and state ID's"
   ]
  },
  {
   "cell_type": "code",
   "execution_count": 123,
   "metadata": {},
   "outputs": [],
   "source": [
    "states = ['CA', 'OR', 'AZ', 'NV', 'TX', 'FL', 'NY', 'PA', 'IL', 'OH', 'GA', 'NC', 'MI']"
   ]
  },
  {
   "cell_type": "code",
   "execution_count": 3,
   "metadata": {},
   "outputs": [
    {
     "data": {
      "text/html": [
       "<div>\n",
       "<style scoped>\n",
       "    .dataframe tbody tr th:only-of-type {\n",
       "        vertical-align: middle;\n",
       "    }\n",
       "\n",
       "    .dataframe tbody tr th {\n",
       "        vertical-align: top;\n",
       "    }\n",
       "\n",
       "    .dataframe thead th {\n",
       "        text-align: right;\n",
       "    }\n",
       "</style>\n",
       "<table border=\"1\" class=\"dataframe\">\n",
       "  <thead>\n",
       "    <tr style=\"text-align: right;\">\n",
       "      <th></th>\n",
       "      <th>fips</th>\n",
       "      <th>name</th>\n",
       "      <th>state</th>\n",
       "      <th>stname</th>\n",
       "      <th>st</th>\n",
       "    </tr>\n",
       "  </thead>\n",
       "  <tbody>\n",
       "    <tr>\n",
       "      <th>0</th>\n",
       "      <td>1001</td>\n",
       "      <td>Autauga County</td>\n",
       "      <td>AL</td>\n",
       "      <td>Alabama</td>\n",
       "      <td>1</td>\n",
       "    </tr>\n",
       "    <tr>\n",
       "      <th>1</th>\n",
       "      <td>1003</td>\n",
       "      <td>Baldwin County</td>\n",
       "      <td>AL</td>\n",
       "      <td>Alabama</td>\n",
       "      <td>1</td>\n",
       "    </tr>\n",
       "    <tr>\n",
       "      <th>2</th>\n",
       "      <td>1005</td>\n",
       "      <td>Barbour County</td>\n",
       "      <td>AL</td>\n",
       "      <td>Alabama</td>\n",
       "      <td>1</td>\n",
       "    </tr>\n",
       "    <tr>\n",
       "      <th>3</th>\n",
       "      <td>1007</td>\n",
       "      <td>Bibb County</td>\n",
       "      <td>AL</td>\n",
       "      <td>Alabama</td>\n",
       "      <td>1</td>\n",
       "    </tr>\n",
       "    <tr>\n",
       "      <th>4</th>\n",
       "      <td>1009</td>\n",
       "      <td>Blount County</td>\n",
       "      <td>AL</td>\n",
       "      <td>Alabama</td>\n",
       "      <td>1</td>\n",
       "    </tr>\n",
       "    <tr>\n",
       "      <th>...</th>\n",
       "      <td>...</td>\n",
       "      <td>...</td>\n",
       "      <td>...</td>\n",
       "      <td>...</td>\n",
       "      <td>...</td>\n",
       "    </tr>\n",
       "    <tr>\n",
       "      <th>3138</th>\n",
       "      <td>56037</td>\n",
       "      <td>Sweetwater County</td>\n",
       "      <td>WY</td>\n",
       "      <td>Wyoming</td>\n",
       "      <td>56</td>\n",
       "    </tr>\n",
       "    <tr>\n",
       "      <th>3139</th>\n",
       "      <td>56039</td>\n",
       "      <td>Teton County</td>\n",
       "      <td>WY</td>\n",
       "      <td>Wyoming</td>\n",
       "      <td>56</td>\n",
       "    </tr>\n",
       "    <tr>\n",
       "      <th>3140</th>\n",
       "      <td>56041</td>\n",
       "      <td>Uinta County</td>\n",
       "      <td>WY</td>\n",
       "      <td>Wyoming</td>\n",
       "      <td>56</td>\n",
       "    </tr>\n",
       "    <tr>\n",
       "      <th>3141</th>\n",
       "      <td>56043</td>\n",
       "      <td>Washakie County</td>\n",
       "      <td>WY</td>\n",
       "      <td>Wyoming</td>\n",
       "      <td>56</td>\n",
       "    </tr>\n",
       "    <tr>\n",
       "      <th>3142</th>\n",
       "      <td>56045</td>\n",
       "      <td>Weston County</td>\n",
       "      <td>WY</td>\n",
       "      <td>Wyoming</td>\n",
       "      <td>56</td>\n",
       "    </tr>\n",
       "  </tbody>\n",
       "</table>\n",
       "<p>3143 rows × 5 columns</p>\n",
       "</div>"
      ],
      "text/plain": [
       "       fips               name state   stname  st\n",
       "0      1001     Autauga County    AL  Alabama   1\n",
       "1      1003     Baldwin County    AL  Alabama   1\n",
       "2      1005     Barbour County    AL  Alabama   1\n",
       "3      1007        Bibb County    AL  Alabama   1\n",
       "4      1009      Blount County    AL  Alabama   1\n",
       "...     ...                ...   ...      ...  ..\n",
       "3138  56037  Sweetwater County    WY  Wyoming  56\n",
       "3139  56039       Teton County    WY  Wyoming  56\n",
       "3140  56041       Uinta County    WY  Wyoming  56\n",
       "3141  56043    Washakie County    WY  Wyoming  56\n",
       "3142  56045      Weston County    WY  Wyoming  56\n",
       "\n",
       "[3143 rows x 5 columns]"
      ]
     },
     "execution_count": 3,
     "metadata": {},
     "output_type": "execute_result"
    }
   ],
   "source": [
    "fips_state = pd.read_csv(\"data/fips-by-state.csv\", encoding='unicode_escape')\n",
    "fips_county = pd.read_csv(\"data/us-state-ansi-fips.csv\")\n",
    "fips_county.columns = fips_county.columns.str.replace(' ', '')\n",
    "fips_county['stusps'] = fips_county['stusps'].str.strip()\n",
    "fips_county['stname'] = fips_county['stname'].str.strip()\n",
    "merged_index = pd.merge(fips_state, fips_county, left_on=\"state\", right_on=\"stusps\").drop(\"stusps\", axis=1)\n",
    "merged_index"
   ]
  },
  {
   "cell_type": "code",
   "execution_count": 63,
   "metadata": {},
   "outputs": [],
   "source": [
    "merged_index.to_csv(\"merged_index.csv\")"
   ]
  },
  {
   "attachments": {},
   "cell_type": "markdown",
   "metadata": {},
   "source": [
    "### Create helper functions"
   ]
  },
  {
   "cell_type": "code",
   "execution_count": 33,
   "metadata": {},
   "outputs": [],
   "source": [
    "def get_state_name_from_fips(statefips):\n",
    "    return merged_index[merged_index['st']==statefips]['state'].value_counts().keys()[0]\n",
    "\n",
    "def get_county_name_from_fips(countyfips):\n",
    "    return merged_index[merged_index['fips']==countyfips]['name'].values[0]"
   ]
  },
  {
   "attachments": {},
   "cell_type": "markdown",
   "metadata": {},
   "source": [
    "### Load in the Data"
   ]
  },
  {
   "cell_type": "code",
   "execution_count": 122,
   "metadata": {},
   "outputs": [],
   "source": [
    "def plot_daily_pm_by_county(data):\n",
    "    data['countyfips'] = data['countyfips'].astype(str)\n",
    "    state = get_state_name_from_fips(data.statefips.value_counts().keys()[0])\n",
    "    data = data.groupby(by=[data.date, data.countyfips]).agg({'ds_pm_pred':'mean', 'ds_pm_stdd':np.std}).reset_index()\n",
    "    viz = sns.lineplot(data=data, x=\"date\", y=\"ds_pm_pred\", hue=\"countyfips\")\n",
    "    viz.legend(fontsize=4)\n",
    "    title = \"Intra-day Average PM2.5 Measurements for Counties in \" + state\n",
    "    viz.set(title=title)\n",
    "    plt.xticks(rotation=90)\n",
    "    viz.set_xticks(viz.get_xticks()[::10])\n",
    "    plt.savefig(f'visualizations/daily_pm_{state}_2011')\n",
    "    plt.cla()\n",
    "    plt.clf()\n",
    "\n",
    "def plot_and_save_daily_pm(states):\n",
    "    for state in states:\n",
    "        path = f\"data/pm_unagg/pm_conc_data_{state}.csv\"\n",
    "        data = pd.read_csv(path, index_col=[0])\n",
    "        plot_daily_pm_by_county(data)"
   ]
  },
  {
   "cell_type": "code",
   "execution_count": 121,
   "metadata": {},
   "outputs": [
    {
     "data": {
      "text/plain": [
       "<Figure size 640x480 with 0 Axes>"
      ]
     },
     "metadata": {},
     "output_type": "display_data"
    }
   ],
   "source": [
    "plot_and_save_daily_pm()"
   ]
  },
  {
   "attachments": {},
   "cell_type": "markdown",
   "metadata": {},
   "source": [
    "### Combine Data"
   ]
  },
  {
   "cell_type": "code",
   "execution_count": 166,
   "metadata": {},
   "outputs": [],
   "source": [
    "def combine_pm_data_unagg():\n",
    "    pm_all_2011_unagg = pd.concat([pd.read_csv(f\"data/pm_unagg/pm_conc_data_{state}.csv\", index_col=0) for state in states])\n",
    "    # Add relevant metadata columns for easy navigation\n",
    "    # pm_all_2011_unagg['state_acronym'] = pm_all_2011_unagg['statefips'].apply(get_state_name_from_fips)\n",
    "    # pm_all_2011_unagg['county_name'] = pm_all_2011_unagg['countyfips'].apply(get_county_name_from_fips)\n",
    "    return pm_all_2011_unagg\n",
    "\n",
    "def aggregate_pm_data_unagg(pm_all_2011_unagg):\n",
    "    pm_all_2011_unagg = pm_all_2011_unagg.groupby(by=['year', 'statefips', 'countyfips'])\n",
    "    stds = pm_all_2011_unagg['ds_pm_pred'].std().reset_index().ds_pm_pred\n",
    "    pm_all_2011_unagg = pm_all_2011_unagg.agg({'ds_pm_pred':'mean'}).reset_index() \n",
    "    pm_all_2011_unagg['ds_pm_stdd'] = stds\n",
    "    return pm_all_2011_unagg"
   ]
  },
  {
   "cell_type": "code",
   "execution_count": 167,
   "metadata": {},
   "outputs": [],
   "source": [
    "pm_all_2011_unagg = combine_pm_data_unagg()\n",
    "pm_all_2011_agg = aggregate_pm_data_unagg(pm_all_2011_unagg)"
   ]
  },
  {
   "cell_type": "code",
   "execution_count": 169,
   "metadata": {},
   "outputs": [],
   "source": [
    "demographic_data = pd.read_csv(\"data/demographic_data.csv\")\n",
    "demographic_data['County Name'] = [x[0] for x in demographic_data['County Name'].str.split(\",\")]"
   ]
  },
  {
   "cell_type": "code",
   "execution_count": 173,
   "metadata": {},
   "outputs": [],
   "source": [
    "pm_all_2011_agg['county_name'] = pm_all_2011_agg.countyfips.apply(get_county_name_from_fips)"
   ]
  },
  {
   "attachments": {},
   "cell_type": "markdown",
   "metadata": {},
   "source": [
    "Maybe there are missing counties as a function of the variables I queried for from the ACS data? I need to explore the ACS data features in more depth. For now, we can work with the counties that are represented."
   ]
  },
  {
   "cell_type": "code",
   "execution_count": 174,
   "metadata": {},
   "outputs": [],
   "source": [
    "def merge_datasets(pm, dem):\n",
    "    merged = pm.merge(right=dem, left_on=\"county_name\", right_on=\"County Name\")\n",
    "    merged = merged.drop(['state', 'county', 'County Name'], axis=1)\n",
    "    return merged"
   ]
  },
  {
   "cell_type": "code",
   "execution_count": 178,
   "metadata": {},
   "outputs": [],
   "source": [
    "merged = merge_datasets(pm_all_2011_agg, demographic_data)\n",
    "merged['state_name'] = merged.statefips.apply(get_state_name_from_fips)"
   ]
  },
  {
   "cell_type": "code",
   "execution_count": 179,
   "metadata": {},
   "outputs": [],
   "source": [
    "merged.to_csv(\"data/merged.csv\")"
   ]
  },
  {
   "cell_type": "code",
   "execution_count": null,
   "metadata": {},
   "outputs": [],
   "source": []
  }
 ],
 "metadata": {
  "kernelspec": {
   "display_name": "102_final_project",
   "language": "python",
   "name": "python3"
  },
  "language_info": {
   "codemirror_mode": {
    "name": "ipython",
    "version": 3
   },
   "file_extension": ".py",
   "mimetype": "text/x-python",
   "name": "python",
   "nbconvert_exporter": "python",
   "pygments_lexer": "ipython3",
   "version": "3.11.3"
  },
  "orig_nbformat": 4
 },
 "nbformat": 4,
 "nbformat_minor": 2
}
